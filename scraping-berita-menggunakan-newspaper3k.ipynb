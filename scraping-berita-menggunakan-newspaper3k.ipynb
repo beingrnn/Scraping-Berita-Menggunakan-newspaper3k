{
 "cells": [
  {
   "cell_type": "markdown",
   "id": "impressed-ideal",
   "metadata": {
    "id": "MvYc-QV_3gr_",
    "papermill": {
     "duration": 0.041676,
     "end_time": "2021-06-23T13:07:04.941688",
     "exception": false,
     "start_time": "2021-06-23T13:07:04.900012",
     "status": "completed"
    },
    "tags": []
   },
   "source": [
    "Pada Notebook kali ini saya akan melakukan proses scraping dari wwbsite berita detik.com menggunakan library newspaper3k. Dengan menggunakan library newspaper3k ini dapat melakukan judul berita, nama penulis, tangal penulisan dan ringkasan berita. Selain itu juga menggunakan nltk uuntuk melakukan ringkasan dan menampilkan frekuensi persebaran kata serta wordclud."
   ]
  },
  {
   "cell_type": "markdown",
   "id": "traditional-tennessee",
   "metadata": {
    "papermill": {
     "duration": 0.038138,
     "end_time": "2021-06-23T13:07:05.018447",
     "exception": false,
     "start_time": "2021-06-23T13:07:04.980309",
     "status": "completed"
    },
    "tags": []
   },
   "source": [
    "# Import Library"
   ]
  },
  {
   "cell_type": "code",
   "execution_count": 1,
   "id": "patent-spokesman",
   "metadata": {
    "execution": {
     "iopub.execute_input": "2021-06-23T13:07:05.101840Z",
     "iopub.status.busy": "2021-06-23T13:07:05.101210Z",
     "iopub.status.idle": "2021-06-23T13:07:27.039300Z",
     "shell.execute_reply": "2021-06-23T13:07:27.038582Z",
     "shell.execute_reply.started": "2021-06-23T12:47:49.650711Z"
    },
    "id": "s1974_JnrBpa",
    "outputId": "a87b198d-51ac-4878-cc12-69aa0d5b9c65",
    "papermill": {
     "duration": 21.981635,
     "end_time": "2021-06-23T13:07:27.039459",
     "exception": false,
     "start_time": "2021-06-23T13:07:05.057824",
     "status": "completed"
    },
    "tags": []
   },
   "outputs": [
    {
     "name": "stdout",
     "output_type": "stream",
     "text": [
      "Collecting newspaper3k\r\n",
      "  Downloading newspaper3k-0.2.8-py3-none-any.whl (211 kB)\r\n",
      "\u001b[K     |████████████████████████████████| 211 kB 846 kB/s \r\n",
      "\u001b[?25hCollecting feedfinder2>=0.0.4\r\n",
      "  Downloading feedfinder2-0.0.4.tar.gz (3.3 kB)\r\n",
      "Requirement already satisfied: lxml>=3.6.0 in /opt/conda/lib/python3.7/site-packages (from newspaper3k) (4.6.3)\r\n",
      "Requirement already satisfied: requests>=2.10.0 in /opt/conda/lib/python3.7/site-packages (from newspaper3k) (2.25.1)\r\n",
      "Requirement already satisfied: Pillow>=3.3.0 in /opt/conda/lib/python3.7/site-packages (from newspaper3k) (7.2.0)\r\n",
      "Collecting jieba3k>=0.35.1\r\n",
      "  Downloading jieba3k-0.35.1.zip (7.4 MB)\r\n",
      "\u001b[K     |████████████████████████████████| 7.4 MB 6.3 MB/s \r\n",
      "\u001b[?25hRequirement already satisfied: nltk>=3.2.1 in /opt/conda/lib/python3.7/site-packages (from newspaper3k) (3.2.4)\r\n",
      "Requirement already satisfied: python-dateutil>=2.5.3 in /opt/conda/lib/python3.7/site-packages (from newspaper3k) (2.8.1)\r\n",
      "Requirement already satisfied: PyYAML>=3.11 in /opt/conda/lib/python3.7/site-packages (from newspaper3k) (5.3.1)\r\n",
      "Collecting feedparser>=5.2.1\r\n",
      "  Downloading feedparser-6.0.8-py3-none-any.whl (81 kB)\r\n",
      "\u001b[K     |████████████████████████████████| 81 kB 5.2 MB/s \r\n",
      "\u001b[?25hCollecting tinysegmenter==0.3\r\n",
      "  Downloading tinysegmenter-0.3.tar.gz (16 kB)\r\n",
      "Collecting beautifulsoup4>=4.4.1\r\n",
      "  Downloading beautifulsoup4-4.9.3-py3-none-any.whl (115 kB)\r\n",
      "\u001b[K     |████████████████████████████████| 115 kB 12.8 MB/s \r\n",
      "\u001b[?25hCollecting tldextract>=2.0.1\r\n",
      "  Downloading tldextract-3.1.0-py2.py3-none-any.whl (87 kB)\r\n",
      "\u001b[K     |████████████████████████████████| 87 kB 3.5 MB/s \r\n",
      "\u001b[?25hCollecting cssselect>=0.9.2\r\n",
      "  Downloading cssselect-1.1.0-py2.py3-none-any.whl (16 kB)\r\n",
      "Collecting soupsieve>1.2\r\n",
      "  Downloading soupsieve-2.2.1-py3-none-any.whl (33 kB)\r\n",
      "Requirement already satisfied: six in /opt/conda/lib/python3.7/site-packages (from feedfinder2>=0.0.4->newspaper3k) (1.15.0)\r\n",
      "Collecting sgmllib3k\r\n",
      "  Downloading sgmllib3k-1.0.0.tar.gz (5.8 kB)\r\n",
      "Requirement already satisfied: idna<3,>=2.5 in /opt/conda/lib/python3.7/site-packages (from requests>=2.10.0->newspaper3k) (2.10)\r\n",
      "Requirement already satisfied: chardet<5,>=3.0.2 in /opt/conda/lib/python3.7/site-packages (from requests>=2.10.0->newspaper3k) (3.0.4)\r\n",
      "Requirement already satisfied: urllib3<1.27,>=1.21.1 in /opt/conda/lib/python3.7/site-packages (from requests>=2.10.0->newspaper3k) (1.26.3)\r\n",
      "Requirement already satisfied: certifi>=2017.4.17 in /opt/conda/lib/python3.7/site-packages (from requests>=2.10.0->newspaper3k) (2020.12.5)\r\n",
      "Requirement already satisfied: filelock>=3.0.8 in /opt/conda/lib/python3.7/site-packages (from tldextract>=2.0.1->newspaper3k) (3.0.12)\r\n",
      "Collecting requests-file>=1.4\r\n",
      "  Downloading requests_file-1.5.1-py2.py3-none-any.whl (3.7 kB)\r\n",
      "Building wheels for collected packages: tinysegmenter, feedfinder2, jieba3k, sgmllib3k\r\n",
      "  Building wheel for tinysegmenter (setup.py) ... \u001b[?25l-\b \b\\\b \bdone\r\n",
      "\u001b[?25h  Created wheel for tinysegmenter: filename=tinysegmenter-0.3-py3-none-any.whl size=13537 sha256=492c1de14b0acd825867ac4f7821fc32ef84a306531b1dfe061153cbe37d611b\r\n",
      "  Stored in directory: /root/.cache/pip/wheels/df/67/41/faca10fa501ca010be41b49d40360c2959e1c4f09bcbfa37fa\r\n",
      "  Building wheel for feedfinder2 (setup.py) ... \u001b[?25l-\b \b\\\b \bdone\r\n",
      "\u001b[?25h  Created wheel for feedfinder2: filename=feedfinder2-0.0.4-py3-none-any.whl size=3354 sha256=b6b67d18dddbdf1ab166d0ff16bf3b810578749a3ca26025ab6d51ebccd75606\r\n",
      "  Stored in directory: /root/.cache/pip/wheels/7f/d4/8f/6e2ca54744c9d7292d88ddb8d42876bcdab5e6d84a21c10346\r\n",
      "  Building wheel for jieba3k (setup.py) ... \u001b[?25l-\b \b\\\b \b|\b \b/\b \b-\b \b\\\b \b|\b \b/\b \bdone\r\n",
      "\u001b[?25h  Created wheel for jieba3k: filename=jieba3k-0.35.1-py3-none-any.whl size=7398406 sha256=b66291ddb1cb4385130682bc15f20b1e9d129189b5c80ed1fcfb2a93d3c693b4\r\n",
      "  Stored in directory: /root/.cache/pip/wheels/4c/91/46/3c208287b726df325a5979574324878b679116e4baae1af3c3\r\n",
      "  Building wheel for sgmllib3k (setup.py) ... \u001b[?25l-\b \b\\\b \bdone\r\n",
      "\u001b[?25h  Created wheel for sgmllib3k: filename=sgmllib3k-1.0.0-py3-none-any.whl size=6065 sha256=b2826b469893456c8d47dee55e54ba9e18d070c65b3e2de2ca244e888dcd0b3b\r\n",
      "  Stored in directory: /root/.cache/pip/wheels/73/ad/a4/0dff4a6ef231fc0dfa12ffbac2a36cebfdddfe059f50e019aa\r\n",
      "Successfully built tinysegmenter feedfinder2 jieba3k sgmllib3k\r\n",
      "Installing collected packages: soupsieve, sgmllib3k, requests-file, beautifulsoup4, tldextract, tinysegmenter, jieba3k, feedparser, feedfinder2, cssselect, newspaper3k\r\n",
      "Successfully installed beautifulsoup4-4.9.3 cssselect-1.1.0 feedfinder2-0.0.4 feedparser-6.0.8 jieba3k-0.35.1 newspaper3k-0.2.8 requests-file-1.5.1 sgmllib3k-1.0.0 soupsieve-2.2.1 tinysegmenter-0.3 tldextract-3.1.0\r\n",
      "Note: you may need to restart the kernel to use updated packages.\n"
     ]
    }
   ],
   "source": [
    "pip install newspaper3k"
   ]
  },
  {
   "cell_type": "code",
   "execution_count": 2,
   "id": "ahead-estate",
   "metadata": {
    "execution": {
     "iopub.execute_input": "2021-06-23T13:07:27.176583Z",
     "iopub.status.busy": "2021-06-23T13:07:27.172447Z",
     "iopub.status.idle": "2021-06-23T13:07:34.666325Z",
     "shell.execute_reply": "2021-06-23T13:07:34.666882Z",
     "shell.execute_reply.started": "2021-06-23T12:48:08.591072Z"
    },
    "id": "RcRuoSMz0G3Q",
    "outputId": "1a6535a8-f9c2-44d1-e379-140ab7344381",
    "papermill": {
     "duration": 7.563068,
     "end_time": "2021-06-23T13:07:34.667083",
     "exception": false,
     "start_time": "2021-06-23T13:07:27.104015",
     "status": "completed"
    },
    "tags": []
   },
   "outputs": [
    {
     "name": "stdout",
     "output_type": "stream",
     "text": [
      "Collecting Sastrawi\r\n",
      "  Downloading Sastrawi-1.0.1-py2.py3-none-any.whl (209 kB)\r\n",
      "\u001b[K     |████████████████████████████████| 209 kB 833 kB/s \r\n",
      "\u001b[?25hInstalling collected packages: Sastrawi\r\n",
      "Successfully installed Sastrawi-1.0.1\r\n",
      "Note: you may need to restart the kernel to use updated packages.\n"
     ]
    }
   ],
   "source": [
    "pip install Sastrawi"
   ]
  },
  {
   "cell_type": "code",
   "execution_count": 3,
   "id": "correct-growth",
   "metadata": {
    "execution": {
     "iopub.execute_input": "2021-06-23T13:07:34.804823Z",
     "iopub.status.busy": "2021-06-23T13:07:34.804154Z",
     "iopub.status.idle": "2021-06-23T13:07:42.074638Z",
     "shell.execute_reply": "2021-06-23T13:07:42.074072Z",
     "shell.execute_reply.started": "2021-06-23T12:48:15.296966Z"
    },
    "id": "irj_sWRp2nhV",
    "outputId": "db2ebfbe-ba00-47bd-dbf7-99fb51dcd4d4",
    "papermill": {
     "duration": 7.340967,
     "end_time": "2021-06-23T13:07:42.074780",
     "exception": false,
     "start_time": "2021-06-23T13:07:34.733813",
     "status": "completed"
    },
    "tags": []
   },
   "outputs": [
    {
     "name": "stdout",
     "output_type": "stream",
     "text": [
      "Collecting Stopword\r\n",
      "  Downloading stopword-0.0.4-py3-none-any.whl (14 kB)\r\n",
      "Installing collected packages: Stopword\r\n",
      "Successfully installed Stopword-0.0.4\r\n",
      "Note: you may need to restart the kernel to use updated packages.\n"
     ]
    }
   ],
   "source": [
    "pip install Stopword"
   ]
  },
  {
   "cell_type": "code",
   "execution_count": 4,
   "id": "attractive-newton",
   "metadata": {
    "execution": {
     "iopub.execute_input": "2021-06-23T13:07:42.221462Z",
     "iopub.status.busy": "2021-06-23T13:07:42.217843Z",
     "iopub.status.idle": "2021-06-23T13:07:48.681883Z",
     "shell.execute_reply": "2021-06-23T13:07:48.681365Z",
     "shell.execute_reply.started": "2021-06-23T12:48:21.919726Z"
    },
    "id": "VSDHkT2O24QH",
    "outputId": "c4b399ed-3197-467a-c120-061d881d30c7",
    "papermill": {
     "duration": 6.538392,
     "end_time": "2021-06-23T13:07:48.682091",
     "exception": false,
     "start_time": "2021-06-23T13:07:42.143699",
     "status": "completed"
    },
    "tags": []
   },
   "outputs": [
    {
     "name": "stdout",
     "output_type": "stream",
     "text": [
      "Requirement already satisfied: nltk in /opt/conda/lib/python3.7/site-packages (3.2.4)\r\n",
      "Requirement already satisfied: six in /opt/conda/lib/python3.7/site-packages (from nltk) (1.15.0)\r\n",
      "Note: you may need to restart the kernel to use updated packages.\n"
     ]
    }
   ],
   "source": [
    "pip install nltk"
   ]
  },
  {
   "cell_type": "code",
   "execution_count": 5,
   "id": "perfect-henry",
   "metadata": {
    "execution": {
     "iopub.execute_input": "2021-06-23T13:07:48.836809Z",
     "iopub.status.busy": "2021-06-23T13:07:48.836011Z",
     "iopub.status.idle": "2021-06-23T13:07:55.525489Z",
     "shell.execute_reply": "2021-06-23T13:07:55.524860Z",
     "shell.execute_reply.started": "2021-06-23T12:48:28.239592Z"
    },
    "id": "nTJELWNs8_ys",
    "outputId": "a28be2e0-55bb-4041-c69a-53c88aca2b73",
    "papermill": {
     "duration": 6.773573,
     "end_time": "2021-06-23T13:07:55.525644",
     "exception": false,
     "start_time": "2021-06-23T13:07:48.752071",
     "status": "completed"
    },
    "tags": []
   },
   "outputs": [
    {
     "name": "stdout",
     "output_type": "stream",
     "text": [
      "Requirement already satisfied: wordcloud in /opt/conda/lib/python3.7/site-packages (1.8.1)\r\n",
      "Requirement already satisfied: matplotlib in /opt/conda/lib/python3.7/site-packages (from wordcloud) (3.4.0)\r\n",
      "Requirement already satisfied: pillow in /opt/conda/lib/python3.7/site-packages (from wordcloud) (7.2.0)\r\n",
      "Requirement already satisfied: numpy>=1.6.1 in /opt/conda/lib/python3.7/site-packages (from wordcloud) (1.19.5)\r\n",
      "Requirement already satisfied: cycler>=0.10 in /opt/conda/lib/python3.7/site-packages (from matplotlib->wordcloud) (0.10.0)\r\n",
      "Requirement already satisfied: kiwisolver>=1.0.1 in /opt/conda/lib/python3.7/site-packages (from matplotlib->wordcloud) (1.3.1)\r\n",
      "Requirement already satisfied: pyparsing>=2.2.1 in /opt/conda/lib/python3.7/site-packages (from matplotlib->wordcloud) (2.4.7)\r\n",
      "Requirement already satisfied: python-dateutil>=2.7 in /opt/conda/lib/python3.7/site-packages (from matplotlib->wordcloud) (2.8.1)\r\n",
      "Requirement already satisfied: six in /opt/conda/lib/python3.7/site-packages (from cycler>=0.10->matplotlib->wordcloud) (1.15.0)\r\n",
      "Note: you may need to restart the kernel to use updated packages.\n"
     ]
    }
   ],
   "source": [
    "pip install wordcloud"
   ]
  },
  {
   "cell_type": "code",
   "execution_count": 6,
   "id": "independent-suggestion",
   "metadata": {
    "execution": {
     "iopub.execute_input": "2021-06-23T13:07:55.678073Z",
     "iopub.status.busy": "2021-06-23T13:07:55.677353Z",
     "iopub.status.idle": "2021-06-23T13:07:55.912367Z",
     "shell.execute_reply": "2021-06-23T13:07:55.912889Z",
     "shell.execute_reply.started": "2021-06-23T12:48:34.532101Z"
    },
    "id": "OZZGUeaFNCZ5",
    "papermill": {
     "duration": 0.313892,
     "end_time": "2021-06-23T13:07:55.913134",
     "exception": false,
     "start_time": "2021-06-23T13:07:55.599242",
     "status": "completed"
    },
    "tags": []
   },
   "outputs": [],
   "source": [
    "import newspaper\n",
    "from newspaper import news_pool\n",
    "from newspaper import Article"
   ]
  },
  {
   "cell_type": "markdown",
   "id": "biological-enough",
   "metadata": {
    "papermill": {
     "duration": 0.071863,
     "end_time": "2021-06-23T13:07:56.061841",
     "exception": false,
     "start_time": "2021-06-23T13:07:55.989978",
     "status": "completed"
    },
    "tags": []
   },
   "source": [
    "# Menggunakan Newspaper3k"
   ]
  },
  {
   "cell_type": "markdown",
   "id": "neither-candle",
   "metadata": {
    "papermill": {
     "duration": 0.069971,
     "end_time": "2021-06-23T13:07:56.202666",
     "exception": false,
     "start_time": "2021-06-23T13:07:56.132695",
     "status": "completed"
    },
    "tags": []
   },
   "source": [
    "# Deklarasi URL Berita"
   ]
  },
  {
   "cell_type": "markdown",
   "id": "opening-backing",
   "metadata": {
    "papermill": {
     "duration": 0.069446,
     "end_time": "2021-06-23T13:07:56.342126",
     "exception": false,
     "start_time": "2021-06-23T13:07:56.272680",
     "status": "completed"
    },
    "tags": []
   },
   "source": [
    "Pada proses ini saya memasukkan list url berita, yang mana saya menggunakan 3 link berita dan disimpan pada list variable list_of_urls"
   ]
  },
  {
   "cell_type": "code",
   "execution_count": 7,
   "id": "extraordinary-garden",
   "metadata": {
    "execution": {
     "iopub.execute_input": "2021-06-23T13:07:56.495313Z",
     "iopub.status.busy": "2021-06-23T13:07:56.494311Z",
     "iopub.status.idle": "2021-06-23T13:07:56.497753Z",
     "shell.execute_reply": "2021-06-23T13:07:56.497111Z",
     "shell.execute_reply.started": "2021-06-23T12:48:34.738220Z"
    },
    "id": "T-rxi0i4rO6n",
    "papermill": {
     "duration": 0.085026,
     "end_time": "2021-06-23T13:07:56.497904",
     "exception": false,
     "start_time": "2021-06-23T13:07:56.412878",
     "status": "completed"
    },
    "tags": []
   },
   "outputs": [],
   "source": [
    "list_of_urls = ['https://health.detik.com/berita-detikhealth/d-5535263/uji-klinis-vaksin-nusantara-lanjut-di-rspad-bpom-sudah-ogah-dikait-kaitkan?_ga=2.100769795.324927160.1618696537-1877578487.1618696537',\n",
    "\t\t\t\t'https://health.detik.com/berita-detikhealth/d-5519704/kemenkes-pastikan-vaksinasi-corona-tetap-lanjut-di-bulan-ramadhan?_ga=2.25805119.324927160.1618696537-1877578487.1618696537',\n",
    "\t\t\t\t'https://health.detik.com/berita-detikhealth/d-5526490/bpom-prediksi-izin-vaksin-corona-merah-putih-diberikan-oktober-2021?_ga=2.261180047.324927160.1618696537-1877578487.1618696537']"
   ]
  },
  {
   "cell_type": "markdown",
   "id": "built-benefit",
   "metadata": {
    "papermill": {
     "duration": 0.069728,
     "end_time": "2021-06-23T13:07:56.639106",
     "exception": false,
     "start_time": "2021-06-23T13:07:56.569378",
     "status": "completed"
    },
    "tags": []
   },
   "source": [
    "Selanjutnya ini merupakan proses yang dilakukan newspaper3k yaitu scraping data dari web berita, dan menhasilkan output berupa judul artikel, penulis artikel, tanggal publikasi artikel, dan ringkasan artikel. Dan untuk hasil ringkasan dan teks berita disimpan dalam list kosong yang sebelum proses looping sudah di deklarasikan baru di appand pada saar looping."
   ]
  },
  {
   "cell_type": "code",
   "execution_count": 8,
   "id": "incident-grove",
   "metadata": {
    "execution": {
     "iopub.execute_input": "2021-06-23T13:07:56.788136Z",
     "iopub.status.busy": "2021-06-23T13:07:56.787396Z",
     "iopub.status.idle": "2021-06-23T13:08:07.466562Z",
     "shell.execute_reply": "2021-06-23T13:08:07.465833Z",
     "shell.execute_reply.started": "2021-06-23T12:48:34.752282Z"
    },
    "id": "zLCu-nUJrwNV",
    "outputId": "c492c26e-ccbe-4dc8-ac51-85857b38ef1f",
    "papermill": {
     "duration": 10.758214,
     "end_time": "2021-06-23T13:08:07.466720",
     "exception": false,
     "start_time": "2021-06-23T13:07:56.708506",
     "status": "completed"
    },
    "tags": []
   },
   "outputs": [
    {
     "name": "stdout",
     "output_type": "stream",
     "text": [
      "Judul: Uji Klinis Vaksin Nusantara Lanjut di RSPAD, BPOM Sudah Ogah Dikait-kaitkan\n",
      "Penulis: ['Nafilah Sri Sagita K', 'Https', 'Www.Facebook.Com Detikhealth', 'Nafilah Sri Sagita K - Detikhealth']\n",
      "Tanggal publikasi: 2021-04-16 17:43:00\n",
      "Rangkuman : Kepala Badan Pengawas Obat dan Makanan (BPOM) menanggapi proses uji vaksin Nusantara yang dilakukan di RSPAD Gatot Soebroto sejak Rabu (14/4/2021).\n",
      "\"Apa yang sekarang terjadi, itu di luar BPOM, bukan kapasitas BPOM soal itu,\" tegas Kepala BPOM Penny K Lukito dalam konferensi pers daring Jumat (16/4/2021).\n",
      "Penny menegaskan peran BPOM dalam proses pengembangan vaksin COVID-19, fokus pada pendampingan uji klinis yang sesuai dengan standar internasional.\n",
      "Sementara, para peneliti vaksin Nusantara hingga saat ini belum memberikan koreksi apapun dari evaluasi di sejumlah catatan uji vaksin dendritik Fase I.Menurutnya, jika tak kunjung ada koreksi dari para pihak peneliti, uji vaksin Nusantara akan terus kembali ke fase awal pengembangan vaksin Corona.\n",
      "Ditegaskan Penny, catatan atau evaluasi BPOM soal uji vaksin Fase I Nusantara sudah tak bisa diganggu gugat lagi.\n",
      "Judul: Kemenkes Pastikan Vaksinasi Corona Tetap Lanjut di Bulan Ramadhan\n",
      "Penulis: ['Ayunda Septiani', 'Https', 'Www.Facebook.Com Detikhealth', 'Ayunda Septiani - Detikhealth']\n",
      "Tanggal publikasi: 2021-04-04 17:01:51\n",
      "Rangkuman : Juru bicara vaksinasi COVID-19 Kementerian Kesehatan RI dr Siti Nadia Tarmizi menyebutkan hal terkait dengan vaksinasi pada saat bulan puasa.\n",
      "Sebab, sebelumnya Majelis Ulama Indonesia (MUI) menerbitkan fatwa mengenai vaksinasi pada saat puasa.\n",
      "MUI menyarankan, jika merasa khawatir dengan efek samping jika vaksinasi pada bulan puasa, penyuntikkan vaksin COVID-19 dianjurkan pada malam hari.\n",
      "\"Pemerintah dapat melakukan vaksinasi COVID-19 pada malam hari bulan Ramadhan terhadap umat Islam,\" ujar Asrorun Niam Sholeh dalam keterangan resmi yang dikutip dari CNN Indonesia, Rabu (17/2/2021).\n",
      "Vaksinasi COVID-19 Saat Berpuasa, Perlukah Persiapan Khusus?\n",
      "Judul: BPOM Prediksi Izin Vaksin Corona Merah Putih Diberikan Oktober 2021\n",
      "Penulis: ['Sarah Oktaviani Alam', 'Https', 'Www.Facebook.Com Detikhealth', 'Sarah Oktaviani Alam - Detikhealth']\n",
      "Tanggal publikasi: 2021-04-09 17:41:03\n",
      "Rangkuman : Badan Pengawas Obat dan Makanan (BPOM) memperkirakan vaksin Merah Putih yang dikembangkan Universitas Airlangga (Unair) bisa mendapat emergency use authorization (EUA) akhir tahun ini.\n",
      "Ia mengatakan vaksin tersebut akan memulai uji praklinik dengan binatang pada 9 April 2021.\n",
      "Sementara itu, untuk vaksin Corona Merah Putih yang dikembangkan oleh Lembaga Eijkman uji klinisnya belum berjalan.\n",
      "Berdasarkan roadmap, uji klinik vaksin Merah Putih dari Eijkman ini akan selesai sekitar semester kedua 2022.\n",
      "\"Untuk vaksin Merah Putih dari Eijkman akan bekerja sama dengan PT Bio Farma.\n"
     ]
    }
   ],
   "source": [
    "text = []\n",
    "summarize = []\n",
    "for url in list_of_urls:\n",
    "  url_i = newspaper.Article(url=\"%s\" % (url), language='id')\n",
    "  url_i.download()\n",
    "  url_i.parse()\n",
    "  url_i.nlp()\n",
    "  print('Judul:', url_i.title)\n",
    "  print('Penulis:', url_i.authors)\n",
    "  print('Tanggal publikasi:', url_i.publish_date)\n",
    "  print('Rangkuman :', url_i.summary)\n",
    "  summarize.append(url_i.summary)\n",
    "  text.append(url_i.text)"
   ]
  },
  {
   "cell_type": "code",
   "execution_count": 9,
   "id": "equivalent-generation",
   "metadata": {
    "execution": {
     "iopub.execute_input": "2021-06-23T13:08:07.615748Z",
     "iopub.status.busy": "2021-06-23T13:08:07.614671Z",
     "iopub.status.idle": "2021-06-23T13:08:07.620133Z",
     "shell.execute_reply": "2021-06-23T13:08:07.619610Z",
     "shell.execute_reply.started": "2021-06-23T12:48:45.824791Z"
    },
    "id": "ddMD52cMbf-i",
    "outputId": "57b71be9-fea6-463f-c8da-9ca857d41f6d",
    "papermill": {
     "duration": 0.083059,
     "end_time": "2021-06-23T13:08:07.620278",
     "exception": false,
     "start_time": "2021-06-23T13:08:07.537219",
     "status": "completed"
    },
    "tags": []
   },
   "outputs": [
    {
     "data": {
      "text/plain": [
       "['Kepala Badan Pengawas Obat dan Makanan (BPOM) menanggapi proses uji vaksin Nusantara yang dilakukan di RSPAD Gatot Soebroto sejak Rabu (14/4/2021).\\n\"Apa yang sekarang terjadi, itu di luar BPOM, bukan kapasitas BPOM soal itu,\" tegas Kepala BPOM Penny K Lukito dalam konferensi pers daring Jumat (16/4/2021).\\nPenny menegaskan peran BPOM dalam proses pengembangan vaksin COVID-19, fokus pada pendampingan uji klinis yang sesuai dengan standar internasional.\\nSementara, para peneliti vaksin Nusantara hingga saat ini belum memberikan koreksi apapun dari evaluasi di sejumlah catatan uji vaksin dendritik Fase I.Menurutnya, jika tak kunjung ada koreksi dari para pihak peneliti, uji vaksin Nusantara akan terus kembali ke fase awal pengembangan vaksin Corona.\\nDitegaskan Penny, catatan atau evaluasi BPOM soal uji vaksin Fase I Nusantara sudah tak bisa diganggu gugat lagi.',\n",
       " 'Juru bicara vaksinasi COVID-19 Kementerian Kesehatan RI dr Siti Nadia Tarmizi menyebutkan hal terkait dengan vaksinasi pada saat bulan puasa.\\nSebab, sebelumnya Majelis Ulama Indonesia (MUI) menerbitkan fatwa mengenai vaksinasi pada saat puasa.\\nMUI menyarankan, jika merasa khawatir dengan efek samping jika vaksinasi pada bulan puasa, penyuntikkan vaksin COVID-19 dianjurkan pada malam hari.\\n\"Pemerintah dapat melakukan vaksinasi COVID-19 pada malam hari bulan Ramadhan terhadap umat Islam,\" ujar Asrorun Niam Sholeh dalam keterangan resmi yang dikutip dari CNN Indonesia, Rabu (17/2/2021).\\nVaksinasi COVID-19 Saat Berpuasa, Perlukah Persiapan Khusus?',\n",
       " 'Badan Pengawas Obat dan Makanan (BPOM) memperkirakan vaksin Merah Putih yang dikembangkan Universitas Airlangga (Unair) bisa mendapat emergency use authorization (EUA) akhir tahun ini.\\nIa mengatakan vaksin tersebut akan memulai uji praklinik dengan binatang pada 9 April 2021.\\nSementara itu, untuk vaksin Corona Merah Putih yang dikembangkan oleh Lembaga Eijkman uji klinisnya belum berjalan.\\nBerdasarkan roadmap, uji klinik vaksin Merah Putih dari Eijkman ini akan selesai sekitar semester kedua 2022.\\n\"Untuk vaksin Merah Putih dari Eijkman akan bekerja sama dengan PT Bio Farma.']"
      ]
     },
     "execution_count": 9,
     "metadata": {},
     "output_type": "execute_result"
    }
   ],
   "source": [
    "summarize"
   ]
  },
  {
   "cell_type": "code",
   "execution_count": 10,
   "id": "framed-advertiser",
   "metadata": {
    "execution": {
     "iopub.execute_input": "2021-06-23T13:08:07.768499Z",
     "iopub.status.busy": "2021-06-23T13:08:07.767694Z",
     "iopub.status.idle": "2021-06-23T13:08:07.771752Z",
     "shell.execute_reply": "2021-06-23T13:08:07.771135Z",
     "shell.execute_reply.started": "2021-06-23T12:48:45.835463Z"
    },
    "id": "lWYXma0Pr__P",
    "outputId": "957e1164-744e-4a44-80ee-342d75baba07",
    "papermill": {
     "duration": 0.08022,
     "end_time": "2021-06-23T13:08:07.771894",
     "exception": false,
     "start_time": "2021-06-23T13:08:07.691674",
     "status": "completed"
    },
    "tags": []
   },
   "outputs": [
    {
     "data": {
      "text/plain": [
       "['Kepala Badan Pengawas Obat dan Makanan (BPOM) menanggapi proses uji vaksin Nusantara yang dilakukan di RSPAD Gatot Soebroto sejak Rabu (14/4/2021). Menurut Penny, kegiatan tersebut sudah tak ada kaitannya sama sekali dengan BPOM.\\n\\n\"Apa yang sekarang terjadi, itu di luar BPOM, bukan kapasitas BPOM soal itu,\" tegas Kepala BPOM Penny K Lukito dalam konferensi pers daring Jumat (16/4/2021).\\n\\nPenny menegaskan peran BPOM dalam proses pengembangan vaksin COVID-19, fokus pada pendampingan uji klinis yang sesuai dengan standar internasional. Sementara, para peneliti vaksin Nusantara hingga saat ini belum memberikan koreksi apapun dari evaluasi di sejumlah catatan uji vaksin dendritik Fase I.\\n\\nMenurutnya, jika tak kunjung ada koreksi dari para pihak peneliti, uji vaksin Nusantara akan terus kembali ke fase awal pengembangan vaksin Corona. Ditegaskan Penny, catatan atau evaluasi BPOM soal uji vaksin Fase I Nusantara sudah tak bisa diganggu gugat lagi.\\n\\n\"Sudah final penilaian kami dalam hal tersebut. Kami menunggu koreksi yang akan dilakukan,\" katanya.\\n\\n\"Vaksin dendritik atau kemudian yang disebut atau yang dikomersilkan dengan nama vaksin Nusantara itu sudah kami berikan koreksi di Fase I,\" tegas Penny sembari menekankan tak ingin berkomentar lebih lanjut soal vaksin Nusantara.\\n\\nPenny mengimbau hal ini agar menjadi pelajaran sejumlah pihak yang akan mengembangkan vaksin COVID-19, untuk mengikuti aturan atau kaidah klinis demi keselamatan nyawa setiap penerima vaksin Corona.\\n\\nAdapun sejumlah tokoh yang mengikuti uji relawan vaksin Nusantara di RSPAD sejauh ini meliputi eks Menkes Siti Fadhilah Supari, Mantan Panglima TNI Jenderal (Purn) Gatot Nurmantyo, Wakil Ketua DPR Sufmi Dasco Ahmad, Anggota DPR Fraksi PAN Saleh Daulay, Anggota DPR RI Fraksi PDIP Adian Napitupulu, politikus senior Golkar Aburizal Bakrie.\\n\\nAwal Mula Vaksin Nusantara Besutan Dr Terawan',\n",
       " 'Juru bicara vaksinasi COVID-19 Kementerian Kesehatan RI dr Siti Nadia Tarmizi menyebutkan hal terkait dengan vaksinasi pada saat bulan puasa. Disebutkan, vaksinasi akan tetap dilanjutkan.\\n\\nSebab, sebelumnya Majelis Ulama Indonesia (MUI) menerbitkan fatwa mengenai vaksinasi pada saat puasa.\\n\\n\"Terkait dengan semakin dekatnya bulan Ramadhan yang jatuh pada pertengahan bulan April ini, maka Kementerian Kesehatan bersama Kementerian terkait telah berdiskusi dan kita tahu bahwa MUI telah mengeluarkan fatwa yang mengatakan bahwa vaksinasi COVID-19 tidak membatalkan puasa dan boleh dilakukan bagi umat Islam yang sedang berpuasa,\" jelas dr Nadia dalam siaran pers \\'Temu Media Update Penanggulangan COVID-19\\' Minggu (4/4/2021).\\n\\nSelain itu, dr Nadia menjelaskan, berdasarkan keputusan tersebut MUI merekomendasikan, pemerintah akan tetap melakukan vaksinasi di bulan Ramadhan demi mencegah penyebaran COVID-19\\n\\nVaksinasi yang akan dilakukan di bulan Ramadhan ini nantinya akan dilakukan dengan memperhatikan kondisi umat islam yang sedang menjalankan ibadah puasa.\\n\\nMUI menyarankan, jika merasa khawatir dengan efek samping jika vaksinasi pada bulan puasa, penyuntikkan vaksin COVID-19 dianjurkan pada malam hari.\\n\\n\"Pemerintah dapat melakukan vaksinasi COVID-19 pada malam hari bulan Ramadhan terhadap umat Islam,\" ujar Asrorun Niam Sholeh dalam keterangan resmi yang dikutip dari CNN Indonesia, Rabu (17/2/2021).\\n\\nVaksinasi COVID-19 Saat Berpuasa, Perlukah Persiapan Khusus?',\n",
       " 'Badan Pengawas Obat dan Makanan (BPOM) memperkirakan vaksin Merah Putih yang dikembangkan Universitas Airlangga (Unair) bisa mendapat emergency use authorization (EUA) akhir tahun ini.\\n\\nHal ini diungkapkan langsung oleh Kepala BPOM Penny K Lukito dalam rapat bersama Komisi IX DPR RI. Ia mengatakan vaksin tersebut akan memulai uji praklinik dengan binatang pada 9 April 2021.\\n\\n\"Kemudian uji kliniknya akan selesai sekitar September-Oktober 2021. Untuk emergency use authorization bisa diberikan pada Oktober 2021, dan akan mulai produksi massal,\" kata Penny dalam rapat yang disiarkan di Youtube Komisi IX DPR RI, Kamis (8/4/2021).\\n\\nSementara itu, untuk vaksin Corona Merah Putih yang dikembangkan oleh Lembaga Eijkman uji klinisnya belum berjalan. Berdasarkan roadmap, uji klinik vaksin Merah Putih dari Eijkman ini akan selesai sekitar semester kedua 2022.\\n\\n\"Untuk vaksin Merah Putih dari Eijkman akan bekerja sama dengan PT Bio Farma. Harapan proyeksinya, timelinenya uji klinik akan selesai pada semester kedua 2022,\" ujar Penny.\\n\\n\"Dan EUA akan diberikan sekitar September 2022 dan produksi massal bisa dilaksanakan pada Oktober 2022,\" pungkasnya.\\n\\n6 Vaksin Corona yang Sudah Kantongi Restu dari WHO']"
      ]
     },
     "execution_count": 10,
     "metadata": {},
     "output_type": "execute_result"
    }
   ],
   "source": [
    "text"
   ]
  },
  {
   "cell_type": "markdown",
   "id": "authorized-above",
   "metadata": {
    "papermill": {
     "duration": 0.071337,
     "end_time": "2021-06-23T13:08:07.914313",
     "exception": false,
     "start_time": "2021-06-23T13:08:07.842976",
     "status": "completed"
    },
    "tags": []
   },
   "source": [
    "**Mengubah List Menjadi String Text**"
   ]
  },
  {
   "cell_type": "code",
   "execution_count": 11,
   "id": "dependent-stroke",
   "metadata": {
    "execution": {
     "iopub.execute_input": "2021-06-23T13:08:08.066411Z",
     "iopub.status.busy": "2021-06-23T13:08:08.065670Z",
     "iopub.status.idle": "2021-06-23T13:08:08.069655Z",
     "shell.execute_reply": "2021-06-23T13:08:08.069019Z",
     "shell.execute_reply.started": "2021-06-23T12:48:45.849977Z"
    },
    "id": "pOvCThvTsA1u",
    "outputId": "e89ea081-990d-4e89-a67c-7d1d543e29a9",
    "papermill": {
     "duration": 0.081743,
     "end_time": "2021-06-23T13:08:08.069804",
     "exception": false,
     "start_time": "2021-06-23T13:08:07.988061",
     "status": "completed"
    },
    "tags": []
   },
   "outputs": [
    {
     "name": "stdout",
     "output_type": "stream",
     "text": [
      "Kepala Badan Pengawas Obat dan Makanan (BPOM) menanggapi proses uji vaksin Nusantara yang dilakukan di RSPAD Gatot Soebroto sejak Rabu (14/4/2021). Menurut Penny, kegiatan tersebut sudah tak ada kaitannya sama sekali dengan BPOM.\n",
      "\n",
      "\"Apa yang sekarang terjadi, itu di luar BPOM, bukan kapasitas BPOM soal itu,\" tegas Kepala BPOM Penny K Lukito dalam konferensi pers daring Jumat (16/4/2021).\n",
      "\n",
      "Penny menegaskan peran BPOM dalam proses pengembangan vaksin COVID-19, fokus pada pendampingan uji klinis yang sesuai dengan standar internasional. Sementara, para peneliti vaksin Nusantara hingga saat ini belum memberikan koreksi apapun dari evaluasi di sejumlah catatan uji vaksin dendritik Fase I.\n",
      "\n",
      "Menurutnya, jika tak kunjung ada koreksi dari para pihak peneliti, uji vaksin Nusantara akan terus kembali ke fase awal pengembangan vaksin Corona. Ditegaskan Penny, catatan atau evaluasi BPOM soal uji vaksin Fase I Nusantara sudah tak bisa diganggu gugat lagi.\n",
      "\n",
      "\"Sudah final penilaian kami dalam hal tersebut. Kami menunggu koreksi yang akan dilakukan,\" katanya.\n",
      "\n",
      "\"Vaksin dendritik atau kemudian yang disebut atau yang dikomersilkan dengan nama vaksin Nusantara itu sudah kami berikan koreksi di Fase I,\" tegas Penny sembari menekankan tak ingin berkomentar lebih lanjut soal vaksin Nusantara.\n",
      "\n",
      "Penny mengimbau hal ini agar menjadi pelajaran sejumlah pihak yang akan mengembangkan vaksin COVID-19, untuk mengikuti aturan atau kaidah klinis demi keselamatan nyawa setiap penerima vaksin Corona.\n",
      "\n",
      "Adapun sejumlah tokoh yang mengikuti uji relawan vaksin Nusantara di RSPAD sejauh ini meliputi eks Menkes Siti Fadhilah Supari, Mantan Panglima TNI Jenderal (Purn) Gatot Nurmantyo, Wakil Ketua DPR Sufmi Dasco Ahmad, Anggota DPR Fraksi PAN Saleh Daulay, Anggota DPR RI Fraksi PDIP Adian Napitupulu, politikus senior Golkar Aburizal Bakrie.\n",
      "\n",
      "Awal Mula Vaksin Nusantara Besutan Dr Terawan Juru bicara vaksinasi COVID-19 Kementerian Kesehatan RI dr Siti Nadia Tarmizi menyebutkan hal terkait dengan vaksinasi pada saat bulan puasa. Disebutkan, vaksinasi akan tetap dilanjutkan.\n",
      "\n",
      "Sebab, sebelumnya Majelis Ulama Indonesia (MUI) menerbitkan fatwa mengenai vaksinasi pada saat puasa.\n",
      "\n",
      "\"Terkait dengan semakin dekatnya bulan Ramadhan yang jatuh pada pertengahan bulan April ini, maka Kementerian Kesehatan bersama Kementerian terkait telah berdiskusi dan kita tahu bahwa MUI telah mengeluarkan fatwa yang mengatakan bahwa vaksinasi COVID-19 tidak membatalkan puasa dan boleh dilakukan bagi umat Islam yang sedang berpuasa,\" jelas dr Nadia dalam siaran pers 'Temu Media Update Penanggulangan COVID-19' Minggu (4/4/2021).\n",
      "\n",
      "Selain itu, dr Nadia menjelaskan, berdasarkan keputusan tersebut MUI merekomendasikan, pemerintah akan tetap melakukan vaksinasi di bulan Ramadhan demi mencegah penyebaran COVID-19\n",
      "\n",
      "Vaksinasi yang akan dilakukan di bulan Ramadhan ini nantinya akan dilakukan dengan memperhatikan kondisi umat islam yang sedang menjalankan ibadah puasa.\n",
      "\n",
      "MUI menyarankan, jika merasa khawatir dengan efek samping jika vaksinasi pada bulan puasa, penyuntikkan vaksin COVID-19 dianjurkan pada malam hari.\n",
      "\n",
      "\"Pemerintah dapat melakukan vaksinasi COVID-19 pada malam hari bulan Ramadhan terhadap umat Islam,\" ujar Asrorun Niam Sholeh dalam keterangan resmi yang dikutip dari CNN Indonesia, Rabu (17/2/2021).\n",
      "\n",
      "Vaksinasi COVID-19 Saat Berpuasa, Perlukah Persiapan Khusus? Badan Pengawas Obat dan Makanan (BPOM) memperkirakan vaksin Merah Putih yang dikembangkan Universitas Airlangga (Unair) bisa mendapat emergency use authorization (EUA) akhir tahun ini.\n",
      "\n",
      "Hal ini diungkapkan langsung oleh Kepala BPOM Penny K Lukito dalam rapat bersama Komisi IX DPR RI. Ia mengatakan vaksin tersebut akan memulai uji praklinik dengan binatang pada 9 April 2021.\n",
      "\n",
      "\"Kemudian uji kliniknya akan selesai sekitar September-Oktober 2021. Untuk emergency use authorization bisa diberikan pada Oktober 2021, dan akan mulai produksi massal,\" kata Penny dalam rapat yang disiarkan di Youtube Komisi IX DPR RI, Kamis (8/4/2021).\n",
      "\n",
      "Sementara itu, untuk vaksin Corona Merah Putih yang dikembangkan oleh Lembaga Eijkman uji klinisnya belum berjalan. Berdasarkan roadmap, uji klinik vaksin Merah Putih dari Eijkman ini akan selesai sekitar semester kedua 2022.\n",
      "\n",
      "\"Untuk vaksin Merah Putih dari Eijkman akan bekerja sama dengan PT Bio Farma. Harapan proyeksinya, timelinenya uji klinik akan selesai pada semester kedua 2022,\" ujar Penny.\n",
      "\n",
      "\"Dan EUA akan diberikan sekitar September 2022 dan produksi massal bisa dilaksanakan pada Oktober 2022,\" pungkasnya.\n",
      "\n",
      "6 Vaksin Corona yang Sudah Kantongi Restu dari WHO\n"
     ]
    }
   ],
   "source": [
    "teks_detik = ' '.join(map(str, text))\n",
    "  \n",
    "print(teks_detik) "
   ]
  },
  {
   "cell_type": "markdown",
   "id": "auburn-consensus",
   "metadata": {
    "papermill": {
     "duration": 0.071646,
     "end_time": "2021-06-23T13:08:08.214781",
     "exception": false,
     "start_time": "2021-06-23T13:08:08.143135",
     "status": "completed"
    },
    "tags": []
   },
   "source": [
    "**Buat Text Menjadi Dataframe**"
   ]
  },
  {
   "cell_type": "code",
   "execution_count": 12,
   "id": "micro-butterfly",
   "metadata": {
    "execution": {
     "iopub.execute_input": "2021-06-23T13:08:08.376041Z",
     "iopub.status.busy": "2021-06-23T13:08:08.375303Z",
     "iopub.status.idle": "2021-06-23T13:08:08.393158Z",
     "shell.execute_reply": "2021-06-23T13:08:08.392539Z",
     "shell.execute_reply.started": "2021-06-23T12:48:45.862145Z"
    },
    "id": "gYh69GwOsCFP",
    "outputId": "11fc0a4a-985c-4605-edcf-d0ec698f6031",
    "papermill": {
     "duration": 0.105947,
     "end_time": "2021-06-23T13:08:08.393306",
     "exception": false,
     "start_time": "2021-06-23T13:08:08.287359",
     "status": "completed"
    },
    "tags": []
   },
   "outputs": [
    {
     "data": {
      "text/html": [
       "<div>\n",
       "<style scoped>\n",
       "    .dataframe tbody tr th:only-of-type {\n",
       "        vertical-align: middle;\n",
       "    }\n",
       "\n",
       "    .dataframe tbody tr th {\n",
       "        vertical-align: top;\n",
       "    }\n",
       "\n",
       "    .dataframe thead th {\n",
       "        text-align: right;\n",
       "    }\n",
       "</style>\n",
       "<table border=\"1\" class=\"dataframe\">\n",
       "  <thead>\n",
       "    <tr style=\"text-align: right;\">\n",
       "      <th></th>\n",
       "      <th>teks</th>\n",
       "    </tr>\n",
       "  </thead>\n",
       "  <tbody>\n",
       "    <tr>\n",
       "      <th>0</th>\n",
       "      <td>Kepala Badan Pengawas Obat dan Makanan (BPOM) ...</td>\n",
       "    </tr>\n",
       "  </tbody>\n",
       "</table>\n",
       "</div>"
      ],
      "text/plain": [
       "                                                teks\n",
       "0  Kepala Badan Pengawas Obat dan Makanan (BPOM) ..."
      ]
     },
     "execution_count": 12,
     "metadata": {},
     "output_type": "execute_result"
    }
   ],
   "source": [
    "import pandas as pd\n",
    "d = {'teks': [teks_detik]}\n",
    "data_detik = pd.DataFrame(data=d)\n",
    "\n",
    "data_detik"
   ]
  },
  {
   "cell_type": "markdown",
   "id": "combined-safety",
   "metadata": {
    "papermill": {
     "duration": 0.071658,
     "end_time": "2021-06-23T13:08:08.537194",
     "exception": false,
     "start_time": "2021-06-23T13:08:08.465536",
     "status": "completed"
    },
    "tags": []
   },
   "source": [
    "****"
   ]
  },
  {
   "cell_type": "code",
   "execution_count": 13,
   "id": "broadband-concept",
   "metadata": {
    "execution": {
     "iopub.execute_input": "2021-06-23T13:08:08.694254Z",
     "iopub.status.busy": "2021-06-23T13:08:08.693500Z",
     "iopub.status.idle": "2021-06-23T13:08:13.402544Z",
     "shell.execute_reply": "2021-06-23T13:08:13.401992Z",
     "shell.execute_reply.started": "2021-06-23T12:48:45.895173Z"
    },
    "id": "ozkJfk2XkJre",
    "papermill": {
     "duration": 4.79258,
     "end_time": "2021-06-23T13:08:13.402707",
     "exception": false,
     "start_time": "2021-06-23T13:08:08.610127",
     "status": "completed"
    },
    "tags": []
   },
   "outputs": [],
   "source": [
    "df_detik = pd.DataFrame()\n",
    "for url in list_of_urls:\n",
    "  url_i = newspaper.Article(url=\"%s\" % (url), language='id')\n",
    "  url_i.download()\n",
    "  url_i.parse()\n",
    "  url_i.nlp()\n",
    "  \n",
    "  df = pd.DataFrame(columns = ['Judul', 'Penulis', 'Teks','Rangkuman', 'Tanggal publikasi', 'Sumber'])\n",
    "  \n",
    "  df['Penulis'] = url_i.authors\n",
    "  df['Judul'] = url_i.title\n",
    "  df['Teks'] = url_i.text\n",
    "  df['Rangkuman'] = url_i.summary\n",
    "  df['Tanggal publikasi'] = url_i.publish_date\n",
    "  df['Sumber'] = url_i.source_url\n",
    "  \n",
    "  df_detik = df_detik.append(df, ignore_index = True)"
   ]
  },
  {
   "cell_type": "code",
   "execution_count": 14,
   "id": "declared-happiness",
   "metadata": {
    "execution": {
     "iopub.execute_input": "2021-06-23T13:08:13.555125Z",
     "iopub.status.busy": "2021-06-23T13:08:13.554095Z",
     "iopub.status.idle": "2021-06-23T13:08:13.570048Z",
     "shell.execute_reply": "2021-06-23T13:08:13.570502Z",
     "shell.execute_reply.started": "2021-06-23T12:48:50.346494Z"
    },
    "id": "FW5EmqmckO7-",
    "outputId": "fddf9024-c103-48cd-fea2-7baf08b0244c",
    "papermill": {
     "duration": 0.092622,
     "end_time": "2021-06-23T13:08:13.570690",
     "exception": false,
     "start_time": "2021-06-23T13:08:13.478068",
     "status": "completed"
    },
    "tags": []
   },
   "outputs": [
    {
     "data": {
      "text/html": [
       "<div>\n",
       "<style scoped>\n",
       "    .dataframe tbody tr th:only-of-type {\n",
       "        vertical-align: middle;\n",
       "    }\n",
       "\n",
       "    .dataframe tbody tr th {\n",
       "        vertical-align: top;\n",
       "    }\n",
       "\n",
       "    .dataframe thead th {\n",
       "        text-align: right;\n",
       "    }\n",
       "</style>\n",
       "<table border=\"1\" class=\"dataframe\">\n",
       "  <thead>\n",
       "    <tr style=\"text-align: right;\">\n",
       "      <th></th>\n",
       "      <th>Judul</th>\n",
       "      <th>Penulis</th>\n",
       "      <th>Teks</th>\n",
       "      <th>Rangkuman</th>\n",
       "      <th>Tanggal publikasi</th>\n",
       "      <th>Sumber</th>\n",
       "    </tr>\n",
       "  </thead>\n",
       "  <tbody>\n",
       "    <tr>\n",
       "      <th>0</th>\n",
       "      <td>Uji Klinis Vaksin Nusantara Lanjut di RSPAD, B...</td>\n",
       "      <td>Nafilah Sri Sagita K</td>\n",
       "      <td>Kepala Badan Pengawas Obat dan Makanan (BPOM) ...</td>\n",
       "      <td>Kepala Badan Pengawas Obat dan Makanan (BPOM) ...</td>\n",
       "      <td>2021-04-16 17:43:00</td>\n",
       "      <td>https://health.detik.com</td>\n",
       "    </tr>\n",
       "    <tr>\n",
       "      <th>1</th>\n",
       "      <td>Uji Klinis Vaksin Nusantara Lanjut di RSPAD, B...</td>\n",
       "      <td>Https</td>\n",
       "      <td>Kepala Badan Pengawas Obat dan Makanan (BPOM) ...</td>\n",
       "      <td>Kepala Badan Pengawas Obat dan Makanan (BPOM) ...</td>\n",
       "      <td>2021-04-16 17:43:00</td>\n",
       "      <td>https://health.detik.com</td>\n",
       "    </tr>\n",
       "    <tr>\n",
       "      <th>2</th>\n",
       "      <td>Uji Klinis Vaksin Nusantara Lanjut di RSPAD, B...</td>\n",
       "      <td>Www.Facebook.Com Detikhealth</td>\n",
       "      <td>Kepala Badan Pengawas Obat dan Makanan (BPOM) ...</td>\n",
       "      <td>Kepala Badan Pengawas Obat dan Makanan (BPOM) ...</td>\n",
       "      <td>2021-04-16 17:43:00</td>\n",
       "      <td>https://health.detik.com</td>\n",
       "    </tr>\n",
       "    <tr>\n",
       "      <th>3</th>\n",
       "      <td>Uji Klinis Vaksin Nusantara Lanjut di RSPAD, B...</td>\n",
       "      <td>Nafilah Sri Sagita K - Detikhealth</td>\n",
       "      <td>Kepala Badan Pengawas Obat dan Makanan (BPOM) ...</td>\n",
       "      <td>Kepala Badan Pengawas Obat dan Makanan (BPOM) ...</td>\n",
       "      <td>2021-04-16 17:43:00</td>\n",
       "      <td>https://health.detik.com</td>\n",
       "    </tr>\n",
       "    <tr>\n",
       "      <th>4</th>\n",
       "      <td>Kemenkes Pastikan Vaksinasi Corona Tetap Lanju...</td>\n",
       "      <td>Ayunda Septiani</td>\n",
       "      <td>Juru bicara vaksinasi COVID-19 Kementerian Kes...</td>\n",
       "      <td>Juru bicara vaksinasi COVID-19 Kementerian Kes...</td>\n",
       "      <td>2021-04-04 17:01:51</td>\n",
       "      <td>https://health.detik.com</td>\n",
       "    </tr>\n",
       "    <tr>\n",
       "      <th>5</th>\n",
       "      <td>Kemenkes Pastikan Vaksinasi Corona Tetap Lanju...</td>\n",
       "      <td>Https</td>\n",
       "      <td>Juru bicara vaksinasi COVID-19 Kementerian Kes...</td>\n",
       "      <td>Juru bicara vaksinasi COVID-19 Kementerian Kes...</td>\n",
       "      <td>2021-04-04 17:01:51</td>\n",
       "      <td>https://health.detik.com</td>\n",
       "    </tr>\n",
       "    <tr>\n",
       "      <th>6</th>\n",
       "      <td>Kemenkes Pastikan Vaksinasi Corona Tetap Lanju...</td>\n",
       "      <td>Www.Facebook.Com Detikhealth</td>\n",
       "      <td>Juru bicara vaksinasi COVID-19 Kementerian Kes...</td>\n",
       "      <td>Juru bicara vaksinasi COVID-19 Kementerian Kes...</td>\n",
       "      <td>2021-04-04 17:01:51</td>\n",
       "      <td>https://health.detik.com</td>\n",
       "    </tr>\n",
       "    <tr>\n",
       "      <th>7</th>\n",
       "      <td>Kemenkes Pastikan Vaksinasi Corona Tetap Lanju...</td>\n",
       "      <td>Ayunda Septiani - Detikhealth</td>\n",
       "      <td>Juru bicara vaksinasi COVID-19 Kementerian Kes...</td>\n",
       "      <td>Juru bicara vaksinasi COVID-19 Kementerian Kes...</td>\n",
       "      <td>2021-04-04 17:01:51</td>\n",
       "      <td>https://health.detik.com</td>\n",
       "    </tr>\n",
       "    <tr>\n",
       "      <th>8</th>\n",
       "      <td>BPOM Prediksi Izin Vaksin Corona Merah Putih D...</td>\n",
       "      <td>Sarah Oktaviani Alam</td>\n",
       "      <td>Badan Pengawas Obat dan Makanan (BPOM) memperk...</td>\n",
       "      <td>Badan Pengawas Obat dan Makanan (BPOM) memperk...</td>\n",
       "      <td>2021-04-09 17:41:03</td>\n",
       "      <td>https://health.detik.com</td>\n",
       "    </tr>\n",
       "    <tr>\n",
       "      <th>9</th>\n",
       "      <td>BPOM Prediksi Izin Vaksin Corona Merah Putih D...</td>\n",
       "      <td>Https</td>\n",
       "      <td>Badan Pengawas Obat dan Makanan (BPOM) memperk...</td>\n",
       "      <td>Badan Pengawas Obat dan Makanan (BPOM) memperk...</td>\n",
       "      <td>2021-04-09 17:41:03</td>\n",
       "      <td>https://health.detik.com</td>\n",
       "    </tr>\n",
       "    <tr>\n",
       "      <th>10</th>\n",
       "      <td>BPOM Prediksi Izin Vaksin Corona Merah Putih D...</td>\n",
       "      <td>Www.Facebook.Com Detikhealth</td>\n",
       "      <td>Badan Pengawas Obat dan Makanan (BPOM) memperk...</td>\n",
       "      <td>Badan Pengawas Obat dan Makanan (BPOM) memperk...</td>\n",
       "      <td>2021-04-09 17:41:03</td>\n",
       "      <td>https://health.detik.com</td>\n",
       "    </tr>\n",
       "    <tr>\n",
       "      <th>11</th>\n",
       "      <td>BPOM Prediksi Izin Vaksin Corona Merah Putih D...</td>\n",
       "      <td>Sarah Oktaviani Alam - Detikhealth</td>\n",
       "      <td>Badan Pengawas Obat dan Makanan (BPOM) memperk...</td>\n",
       "      <td>Badan Pengawas Obat dan Makanan (BPOM) memperk...</td>\n",
       "      <td>2021-04-09 17:41:03</td>\n",
       "      <td>https://health.detik.com</td>\n",
       "    </tr>\n",
       "  </tbody>\n",
       "</table>\n",
       "</div>"
      ],
      "text/plain": [
       "                                                Judul  \\\n",
       "0   Uji Klinis Vaksin Nusantara Lanjut di RSPAD, B...   \n",
       "1   Uji Klinis Vaksin Nusantara Lanjut di RSPAD, B...   \n",
       "2   Uji Klinis Vaksin Nusantara Lanjut di RSPAD, B...   \n",
       "3   Uji Klinis Vaksin Nusantara Lanjut di RSPAD, B...   \n",
       "4   Kemenkes Pastikan Vaksinasi Corona Tetap Lanju...   \n",
       "5   Kemenkes Pastikan Vaksinasi Corona Tetap Lanju...   \n",
       "6   Kemenkes Pastikan Vaksinasi Corona Tetap Lanju...   \n",
       "7   Kemenkes Pastikan Vaksinasi Corona Tetap Lanju...   \n",
       "8   BPOM Prediksi Izin Vaksin Corona Merah Putih D...   \n",
       "9   BPOM Prediksi Izin Vaksin Corona Merah Putih D...   \n",
       "10  BPOM Prediksi Izin Vaksin Corona Merah Putih D...   \n",
       "11  BPOM Prediksi Izin Vaksin Corona Merah Putih D...   \n",
       "\n",
       "                               Penulis  \\\n",
       "0                 Nafilah Sri Sagita K   \n",
       "1                                Https   \n",
       "2         Www.Facebook.Com Detikhealth   \n",
       "3   Nafilah Sri Sagita K - Detikhealth   \n",
       "4                      Ayunda Septiani   \n",
       "5                                Https   \n",
       "6         Www.Facebook.Com Detikhealth   \n",
       "7        Ayunda Septiani - Detikhealth   \n",
       "8                 Sarah Oktaviani Alam   \n",
       "9                                Https   \n",
       "10        Www.Facebook.Com Detikhealth   \n",
       "11  Sarah Oktaviani Alam - Detikhealth   \n",
       "\n",
       "                                                 Teks  \\\n",
       "0   Kepala Badan Pengawas Obat dan Makanan (BPOM) ...   \n",
       "1   Kepala Badan Pengawas Obat dan Makanan (BPOM) ...   \n",
       "2   Kepala Badan Pengawas Obat dan Makanan (BPOM) ...   \n",
       "3   Kepala Badan Pengawas Obat dan Makanan (BPOM) ...   \n",
       "4   Juru bicara vaksinasi COVID-19 Kementerian Kes...   \n",
       "5   Juru bicara vaksinasi COVID-19 Kementerian Kes...   \n",
       "6   Juru bicara vaksinasi COVID-19 Kementerian Kes...   \n",
       "7   Juru bicara vaksinasi COVID-19 Kementerian Kes...   \n",
       "8   Badan Pengawas Obat dan Makanan (BPOM) memperk...   \n",
       "9   Badan Pengawas Obat dan Makanan (BPOM) memperk...   \n",
       "10  Badan Pengawas Obat dan Makanan (BPOM) memperk...   \n",
       "11  Badan Pengawas Obat dan Makanan (BPOM) memperk...   \n",
       "\n",
       "                                            Rangkuman   Tanggal publikasi  \\\n",
       "0   Kepala Badan Pengawas Obat dan Makanan (BPOM) ... 2021-04-16 17:43:00   \n",
       "1   Kepala Badan Pengawas Obat dan Makanan (BPOM) ... 2021-04-16 17:43:00   \n",
       "2   Kepala Badan Pengawas Obat dan Makanan (BPOM) ... 2021-04-16 17:43:00   \n",
       "3   Kepala Badan Pengawas Obat dan Makanan (BPOM) ... 2021-04-16 17:43:00   \n",
       "4   Juru bicara vaksinasi COVID-19 Kementerian Kes... 2021-04-04 17:01:51   \n",
       "5   Juru bicara vaksinasi COVID-19 Kementerian Kes... 2021-04-04 17:01:51   \n",
       "6   Juru bicara vaksinasi COVID-19 Kementerian Kes... 2021-04-04 17:01:51   \n",
       "7   Juru bicara vaksinasi COVID-19 Kementerian Kes... 2021-04-04 17:01:51   \n",
       "8   Badan Pengawas Obat dan Makanan (BPOM) memperk... 2021-04-09 17:41:03   \n",
       "9   Badan Pengawas Obat dan Makanan (BPOM) memperk... 2021-04-09 17:41:03   \n",
       "10  Badan Pengawas Obat dan Makanan (BPOM) memperk... 2021-04-09 17:41:03   \n",
       "11  Badan Pengawas Obat dan Makanan (BPOM) memperk... 2021-04-09 17:41:03   \n",
       "\n",
       "                      Sumber  \n",
       "0   https://health.detik.com  \n",
       "1   https://health.detik.com  \n",
       "2   https://health.detik.com  \n",
       "3   https://health.detik.com  \n",
       "4   https://health.detik.com  \n",
       "5   https://health.detik.com  \n",
       "6   https://health.detik.com  \n",
       "7   https://health.detik.com  \n",
       "8   https://health.detik.com  \n",
       "9   https://health.detik.com  \n",
       "10  https://health.detik.com  \n",
       "11  https://health.detik.com  "
      ]
     },
     "execution_count": 14,
     "metadata": {},
     "output_type": "execute_result"
    }
   ],
   "source": [
    "df_detik"
   ]
  },
  {
   "cell_type": "markdown",
   "id": "upset-rogers",
   "metadata": {
    "papermill": {
     "duration": 0.073674,
     "end_time": "2021-06-23T13:08:13.717219",
     "exception": false,
     "start_time": "2021-06-23T13:08:13.643545",
     "status": "completed"
    },
    "tags": []
   },
   "source": [
    "# Proses Menggunakan NLTK"
   ]
  },
  {
   "cell_type": "markdown",
   "id": "superior-constitution",
   "metadata": {
    "id": "AXEfsQfF3-Z-",
    "papermill": {
     "duration": 0.079564,
     "end_time": "2021-06-23T13:08:13.869607",
     "exception": false,
     "start_time": "2021-06-23T13:08:13.790043",
     "status": "completed"
    },
    "tags": []
   },
   "source": [
    "# Pre-Processing"
   ]
  },
  {
   "cell_type": "code",
   "execution_count": 15,
   "id": "formal-invitation",
   "metadata": {
    "execution": {
     "iopub.execute_input": "2021-06-23T13:08:14.038028Z",
     "iopub.status.busy": "2021-06-23T13:08:14.037008Z",
     "iopub.status.idle": "2021-06-23T13:08:14.129401Z",
     "shell.execute_reply": "2021-06-23T13:08:14.129886Z",
     "shell.execute_reply.started": "2021-06-23T12:48:50.363562Z"
    },
    "id": "J7-VSM6msFJP",
    "papermill": {
     "duration": 0.17053,
     "end_time": "2021-06-23T13:08:14.130127",
     "exception": false,
     "start_time": "2021-06-23T13:08:13.959597",
     "status": "completed"
    },
    "tags": []
   },
   "outputs": [],
   "source": [
    "from textblob import TextBlob\n",
    "from wordcloud import WordCloud\n",
    "import pandas as pd \n",
    "import numpy as np\n",
    "import re\n",
    "from Sastrawi.StopWordRemover.StopWordRemoverFactory import StopWordRemoverFactory\n",
    "from nltk.corpus import stopwords\n",
    "from nltk.tokenize import word_tokenize"
   ]
  },
  {
   "cell_type": "code",
   "execution_count": 16,
   "id": "associate-checkout",
   "metadata": {
    "execution": {
     "iopub.execute_input": "2021-06-23T13:08:14.281487Z",
     "iopub.status.busy": "2021-06-23T13:08:14.280481Z",
     "iopub.status.idle": "2021-06-23T13:08:14.485351Z",
     "shell.execute_reply": "2021-06-23T13:08:14.484754Z",
     "shell.execute_reply.started": "2021-06-23T12:48:50.467642Z"
    },
    "id": "XyO2a07K2ybM",
    "outputId": "d98cd432-8da2-4672-ca81-0dc667c533ed",
    "papermill": {
     "duration": 0.280823,
     "end_time": "2021-06-23T13:08:14.485495",
     "exception": false,
     "start_time": "2021-06-23T13:08:14.204672",
     "status": "completed"
    },
    "tags": []
   },
   "outputs": [
    {
     "name": "stdout",
     "output_type": "stream",
     "text": [
      "[nltk_data] Downloading package stopwords to /usr/share/nltk_data...\n",
      "[nltk_data]   Package stopwords is already up-to-date!\n",
      "[nltk_data] Downloading package punkt to /usr/share/nltk_data...\n",
      "[nltk_data]   Package punkt is already up-to-date!\n"
     ]
    },
    {
     "data": {
      "text/plain": [
       "True"
      ]
     },
     "execution_count": 16,
     "metadata": {},
     "output_type": "execute_result"
    }
   ],
   "source": [
    "import nltk\n",
    "nltk.download('stopwords')\n",
    "nltk.download('punkt')"
   ]
  },
  {
   "cell_type": "code",
   "execution_count": 17,
   "id": "combined-nirvana",
   "metadata": {
    "execution": {
     "iopub.execute_input": "2021-06-23T13:08:14.647828Z",
     "iopub.status.busy": "2021-06-23T13:08:14.647156Z",
     "iopub.status.idle": "2021-06-23T13:08:14.650419Z",
     "shell.execute_reply": "2021-06-23T13:08:14.649853Z",
     "shell.execute_reply.started": "2021-06-23T12:48:50.614978Z"
    },
    "id": "IcZU3ztrrPAF",
    "papermill": {
     "duration": 0.090932,
     "end_time": "2021-06-23T13:08:14.650574",
     "exception": false,
     "start_time": "2021-06-23T13:08:14.559642",
     "status": "completed"
    },
    "tags": []
   },
   "outputs": [],
   "source": [
    "#preprocessing\n",
    "class preprocess:\n",
    "    def low(self,data):\n",
    "        return data.lower()\n",
    "    def del_num(self,data):\n",
    "        data = re.sub(r\"\\d\", \"\", data)\n",
    "        return data\n",
    "    def del_punct(self,data):\n",
    "        data = re.sub(r'#','', data)\n",
    "        data = re.sub(r'@[A-Za-z0-9]+', '', data)\n",
    "        data = re.sub(r'#','', data)\n",
    "        data = re.sub(r'rt[\\s]+','', data)\n",
    "        data = re.sub(r'https?:\\/\\/\\S+', '', data)\n",
    "        data = re.sub(\"(@[A-Za-z0-9]+)|([^0-9A-Za-z \\t])|(\\w+:\\/\\/\\S+)\",\" \",data)\n",
    "        return data\n",
    "    def del_ws(self,data):\n",
    "        return data.strip()\n",
    "    def del_stopword(self,data):\n",
    "      stop_words_add = ['baca','com', 'v', 'b','nadia', 'pt', 'penny', 'casino', 'jakarta', 'kompas', 'cansino']\n",
    "      word_tokens = word_tokenize(data) \n",
    "      data = ' '.join([w for w in word_tokens if not w in stop_words_add])\n",
    "      return data\n",
    "    def del_stopword2(self,data):\n",
    "      stop_words = set(stopwords.words('indonesian'))\n",
    "      word_tokens = word_tokenize(data) \n",
    "      data = ' '.join([w for w in word_tokens if not w in stop_words])\n",
    "      return data\n",
    "    def stemming(self,data):\n",
    "        factory = StemmerFactory()\n",
    "        stemmer = factory.create_stemmer()\n",
    "        data = stemmer.stem(data)\n",
    "    def proses_1(self,data):\n",
    "        data = self.low(data)\n",
    "        data = self.del_num(data)\n",
    "        data = self.del_punct(data)\n",
    "        data = self.del_ws(data)\n",
    "        data = self.del_stopword(data)\n",
    "        data = self.del_stopword2(data)\n",
    "        return data     "
   ]
  },
  {
   "cell_type": "code",
   "execution_count": 18,
   "id": "recent-jumping",
   "metadata": {
    "execution": {
     "iopub.execute_input": "2021-06-23T13:08:14.811382Z",
     "iopub.status.busy": "2021-06-23T13:08:14.810612Z",
     "iopub.status.idle": "2021-06-23T13:08:14.906173Z",
     "shell.execute_reply": "2021-06-23T13:08:14.906774Z",
     "shell.execute_reply.started": "2021-06-23T12:48:50.630121Z"
    },
    "id": "Q4_7C1inbPUQ",
    "papermill": {
     "duration": 0.179987,
     "end_time": "2021-06-23T13:08:14.906989",
     "exception": false,
     "start_time": "2021-06-23T13:08:14.727002",
     "status": "completed"
    },
    "tags": []
   },
   "outputs": [],
   "source": [
    "df_detik['Teks'] = df_detik['Teks'].apply(lambda x:preprocess().proses_1(x))\n",
    "df_detik['Rangkuman'] = df_detik['Rangkuman'].apply(lambda x:preprocess().proses_1(x))"
   ]
  },
  {
   "cell_type": "code",
   "execution_count": 19,
   "id": "similar-correlation",
   "metadata": {
    "execution": {
     "iopub.execute_input": "2021-06-23T13:08:15.060785Z",
     "iopub.status.busy": "2021-06-23T13:08:15.060049Z",
     "iopub.status.idle": "2021-06-23T13:08:15.075160Z",
     "shell.execute_reply": "2021-06-23T13:08:15.075670Z",
     "shell.execute_reply.started": "2021-06-23T12:48:50.742002Z"
    },
    "id": "rHML7jpw3OCV",
    "outputId": "fc25fb6e-2cb6-4f61-e894-2c78737c1574",
    "papermill": {
     "duration": 0.095258,
     "end_time": "2021-06-23T13:08:15.075860",
     "exception": false,
     "start_time": "2021-06-23T13:08:14.980602",
     "status": "completed"
    },
    "tags": []
   },
   "outputs": [
    {
     "data": {
      "text/html": [
       "<div>\n",
       "<style scoped>\n",
       "    .dataframe tbody tr th:only-of-type {\n",
       "        vertical-align: middle;\n",
       "    }\n",
       "\n",
       "    .dataframe tbody tr th {\n",
       "        vertical-align: top;\n",
       "    }\n",
       "\n",
       "    .dataframe thead th {\n",
       "        text-align: right;\n",
       "    }\n",
       "</style>\n",
       "<table border=\"1\" class=\"dataframe\">\n",
       "  <thead>\n",
       "    <tr style=\"text-align: right;\">\n",
       "      <th></th>\n",
       "      <th>Judul</th>\n",
       "      <th>Penulis</th>\n",
       "      <th>Teks</th>\n",
       "      <th>Rangkuman</th>\n",
       "      <th>Tanggal publikasi</th>\n",
       "      <th>Sumber</th>\n",
       "    </tr>\n",
       "  </thead>\n",
       "  <tbody>\n",
       "    <tr>\n",
       "      <th>0</th>\n",
       "      <td>Uji Klinis Vaksin Nusantara Lanjut di RSPAD, B...</td>\n",
       "      <td>Nafilah Sri Sagita K</td>\n",
       "      <td>kepala badan pengawas obat makanan bpom menang...</td>\n",
       "      <td>kepala badan pengawas obat makanan bpom menang...</td>\n",
       "      <td>2021-04-16 17:43:00</td>\n",
       "      <td>https://health.detik.com</td>\n",
       "    </tr>\n",
       "    <tr>\n",
       "      <th>1</th>\n",
       "      <td>Uji Klinis Vaksin Nusantara Lanjut di RSPAD, B...</td>\n",
       "      <td>Https</td>\n",
       "      <td>kepala badan pengawas obat makanan bpom menang...</td>\n",
       "      <td>kepala badan pengawas obat makanan bpom menang...</td>\n",
       "      <td>2021-04-16 17:43:00</td>\n",
       "      <td>https://health.detik.com</td>\n",
       "    </tr>\n",
       "    <tr>\n",
       "      <th>2</th>\n",
       "      <td>Uji Klinis Vaksin Nusantara Lanjut di RSPAD, B...</td>\n",
       "      <td>Www.Facebook.Com Detikhealth</td>\n",
       "      <td>kepala badan pengawas obat makanan bpom menang...</td>\n",
       "      <td>kepala badan pengawas obat makanan bpom menang...</td>\n",
       "      <td>2021-04-16 17:43:00</td>\n",
       "      <td>https://health.detik.com</td>\n",
       "    </tr>\n",
       "    <tr>\n",
       "      <th>3</th>\n",
       "      <td>Uji Klinis Vaksin Nusantara Lanjut di RSPAD, B...</td>\n",
       "      <td>Nafilah Sri Sagita K - Detikhealth</td>\n",
       "      <td>kepala badan pengawas obat makanan bpom menang...</td>\n",
       "      <td>kepala badan pengawas obat makanan bpom menang...</td>\n",
       "      <td>2021-04-16 17:43:00</td>\n",
       "      <td>https://health.detik.com</td>\n",
       "    </tr>\n",
       "    <tr>\n",
       "      <th>4</th>\n",
       "      <td>Kemenkes Pastikan Vaksinasi Corona Tetap Lanju...</td>\n",
       "      <td>Ayunda Septiani</td>\n",
       "      <td>juru bicara vaksinasi covid kementerian keseha...</td>\n",
       "      <td>juru bicara vaksinasi covid kementerian keseha...</td>\n",
       "      <td>2021-04-04 17:01:51</td>\n",
       "      <td>https://health.detik.com</td>\n",
       "    </tr>\n",
       "    <tr>\n",
       "      <th>5</th>\n",
       "      <td>Kemenkes Pastikan Vaksinasi Corona Tetap Lanju...</td>\n",
       "      <td>Https</td>\n",
       "      <td>juru bicara vaksinasi covid kementerian keseha...</td>\n",
       "      <td>juru bicara vaksinasi covid kementerian keseha...</td>\n",
       "      <td>2021-04-04 17:01:51</td>\n",
       "      <td>https://health.detik.com</td>\n",
       "    </tr>\n",
       "    <tr>\n",
       "      <th>6</th>\n",
       "      <td>Kemenkes Pastikan Vaksinasi Corona Tetap Lanju...</td>\n",
       "      <td>Www.Facebook.Com Detikhealth</td>\n",
       "      <td>juru bicara vaksinasi covid kementerian keseha...</td>\n",
       "      <td>juru bicara vaksinasi covid kementerian keseha...</td>\n",
       "      <td>2021-04-04 17:01:51</td>\n",
       "      <td>https://health.detik.com</td>\n",
       "    </tr>\n",
       "    <tr>\n",
       "      <th>7</th>\n",
       "      <td>Kemenkes Pastikan Vaksinasi Corona Tetap Lanju...</td>\n",
       "      <td>Ayunda Septiani - Detikhealth</td>\n",
       "      <td>juru bicara vaksinasi covid kementerian keseha...</td>\n",
       "      <td>juru bicara vaksinasi covid kementerian keseha...</td>\n",
       "      <td>2021-04-04 17:01:51</td>\n",
       "      <td>https://health.detik.com</td>\n",
       "    </tr>\n",
       "    <tr>\n",
       "      <th>8</th>\n",
       "      <td>BPOM Prediksi Izin Vaksin Corona Merah Putih D...</td>\n",
       "      <td>Sarah Oktaviani Alam</td>\n",
       "      <td>badan pengawas obat makanan bpom vaksin merah ...</td>\n",
       "      <td>badan pengawas obat makanan bpom vaksin merah ...</td>\n",
       "      <td>2021-04-09 17:41:03</td>\n",
       "      <td>https://health.detik.com</td>\n",
       "    </tr>\n",
       "    <tr>\n",
       "      <th>9</th>\n",
       "      <td>BPOM Prediksi Izin Vaksin Corona Merah Putih D...</td>\n",
       "      <td>Https</td>\n",
       "      <td>badan pengawas obat makanan bpom vaksin merah ...</td>\n",
       "      <td>badan pengawas obat makanan bpom vaksin merah ...</td>\n",
       "      <td>2021-04-09 17:41:03</td>\n",
       "      <td>https://health.detik.com</td>\n",
       "    </tr>\n",
       "    <tr>\n",
       "      <th>10</th>\n",
       "      <td>BPOM Prediksi Izin Vaksin Corona Merah Putih D...</td>\n",
       "      <td>Www.Facebook.Com Detikhealth</td>\n",
       "      <td>badan pengawas obat makanan bpom vaksin merah ...</td>\n",
       "      <td>badan pengawas obat makanan bpom vaksin merah ...</td>\n",
       "      <td>2021-04-09 17:41:03</td>\n",
       "      <td>https://health.detik.com</td>\n",
       "    </tr>\n",
       "    <tr>\n",
       "      <th>11</th>\n",
       "      <td>BPOM Prediksi Izin Vaksin Corona Merah Putih D...</td>\n",
       "      <td>Sarah Oktaviani Alam - Detikhealth</td>\n",
       "      <td>badan pengawas obat makanan bpom vaksin merah ...</td>\n",
       "      <td>badan pengawas obat makanan bpom vaksin merah ...</td>\n",
       "      <td>2021-04-09 17:41:03</td>\n",
       "      <td>https://health.detik.com</td>\n",
       "    </tr>\n",
       "  </tbody>\n",
       "</table>\n",
       "</div>"
      ],
      "text/plain": [
       "                                                Judul  \\\n",
       "0   Uji Klinis Vaksin Nusantara Lanjut di RSPAD, B...   \n",
       "1   Uji Klinis Vaksin Nusantara Lanjut di RSPAD, B...   \n",
       "2   Uji Klinis Vaksin Nusantara Lanjut di RSPAD, B...   \n",
       "3   Uji Klinis Vaksin Nusantara Lanjut di RSPAD, B...   \n",
       "4   Kemenkes Pastikan Vaksinasi Corona Tetap Lanju...   \n",
       "5   Kemenkes Pastikan Vaksinasi Corona Tetap Lanju...   \n",
       "6   Kemenkes Pastikan Vaksinasi Corona Tetap Lanju...   \n",
       "7   Kemenkes Pastikan Vaksinasi Corona Tetap Lanju...   \n",
       "8   BPOM Prediksi Izin Vaksin Corona Merah Putih D...   \n",
       "9   BPOM Prediksi Izin Vaksin Corona Merah Putih D...   \n",
       "10  BPOM Prediksi Izin Vaksin Corona Merah Putih D...   \n",
       "11  BPOM Prediksi Izin Vaksin Corona Merah Putih D...   \n",
       "\n",
       "                               Penulis  \\\n",
       "0                 Nafilah Sri Sagita K   \n",
       "1                                Https   \n",
       "2         Www.Facebook.Com Detikhealth   \n",
       "3   Nafilah Sri Sagita K - Detikhealth   \n",
       "4                      Ayunda Septiani   \n",
       "5                                Https   \n",
       "6         Www.Facebook.Com Detikhealth   \n",
       "7        Ayunda Septiani - Detikhealth   \n",
       "8                 Sarah Oktaviani Alam   \n",
       "9                                Https   \n",
       "10        Www.Facebook.Com Detikhealth   \n",
       "11  Sarah Oktaviani Alam - Detikhealth   \n",
       "\n",
       "                                                 Teks  \\\n",
       "0   kepala badan pengawas obat makanan bpom menang...   \n",
       "1   kepala badan pengawas obat makanan bpom menang...   \n",
       "2   kepala badan pengawas obat makanan bpom menang...   \n",
       "3   kepala badan pengawas obat makanan bpom menang...   \n",
       "4   juru bicara vaksinasi covid kementerian keseha...   \n",
       "5   juru bicara vaksinasi covid kementerian keseha...   \n",
       "6   juru bicara vaksinasi covid kementerian keseha...   \n",
       "7   juru bicara vaksinasi covid kementerian keseha...   \n",
       "8   badan pengawas obat makanan bpom vaksin merah ...   \n",
       "9   badan pengawas obat makanan bpom vaksin merah ...   \n",
       "10  badan pengawas obat makanan bpom vaksin merah ...   \n",
       "11  badan pengawas obat makanan bpom vaksin merah ...   \n",
       "\n",
       "                                            Rangkuman   Tanggal publikasi  \\\n",
       "0   kepala badan pengawas obat makanan bpom menang... 2021-04-16 17:43:00   \n",
       "1   kepala badan pengawas obat makanan bpom menang... 2021-04-16 17:43:00   \n",
       "2   kepala badan pengawas obat makanan bpom menang... 2021-04-16 17:43:00   \n",
       "3   kepala badan pengawas obat makanan bpom menang... 2021-04-16 17:43:00   \n",
       "4   juru bicara vaksinasi covid kementerian keseha... 2021-04-04 17:01:51   \n",
       "5   juru bicara vaksinasi covid kementerian keseha... 2021-04-04 17:01:51   \n",
       "6   juru bicara vaksinasi covid kementerian keseha... 2021-04-04 17:01:51   \n",
       "7   juru bicara vaksinasi covid kementerian keseha... 2021-04-04 17:01:51   \n",
       "8   badan pengawas obat makanan bpom vaksin merah ... 2021-04-09 17:41:03   \n",
       "9   badan pengawas obat makanan bpom vaksin merah ... 2021-04-09 17:41:03   \n",
       "10  badan pengawas obat makanan bpom vaksin merah ... 2021-04-09 17:41:03   \n",
       "11  badan pengawas obat makanan bpom vaksin merah ... 2021-04-09 17:41:03   \n",
       "\n",
       "                      Sumber  \n",
       "0   https://health.detik.com  \n",
       "1   https://health.detik.com  \n",
       "2   https://health.detik.com  \n",
       "3   https://health.detik.com  \n",
       "4   https://health.detik.com  \n",
       "5   https://health.detik.com  \n",
       "6   https://health.detik.com  \n",
       "7   https://health.detik.com  \n",
       "8   https://health.detik.com  \n",
       "9   https://health.detik.com  \n",
       "10  https://health.detik.com  \n",
       "11  https://health.detik.com  "
      ]
     },
     "execution_count": 19,
     "metadata": {},
     "output_type": "execute_result"
    }
   ],
   "source": [
    "df_detik"
   ]
  },
  {
   "cell_type": "markdown",
   "id": "minute-miami",
   "metadata": {
    "papermill": {
     "duration": 0.075204,
     "end_time": "2021-06-23T13:08:15.226626",
     "exception": false,
     "start_time": "2021-06-23T13:08:15.151422",
     "status": "completed"
    },
    "tags": []
   },
   "source": [
    "Eksport dataframe ke file csv"
   ]
  },
  {
   "cell_type": "code",
   "execution_count": 20,
   "id": "abandoned-gauge",
   "metadata": {
    "execution": {
     "iopub.execute_input": "2021-06-23T13:08:15.380583Z",
     "iopub.status.busy": "2021-06-23T13:08:15.379902Z",
     "iopub.status.idle": "2021-06-23T13:08:15.388778Z",
     "shell.execute_reply": "2021-06-23T13:08:15.389338Z",
     "shell.execute_reply.started": "2021-06-23T12:50:03.597220Z"
    },
    "id": "7ezg2ZznbTUC",
    "papermill": {
     "duration": 0.086936,
     "end_time": "2021-06-23T13:08:15.389534",
     "exception": false,
     "start_time": "2021-06-23T13:08:15.302598",
     "status": "completed"
    },
    "tags": []
   },
   "outputs": [],
   "source": [
    "df_detik.to_csv('data_detikfixedd.csv', index=False)"
   ]
  },
  {
   "cell_type": "markdown",
   "id": "center-attribute",
   "metadata": {
    "id": "lk2jNpKN4LUN",
    "papermill": {
     "duration": 0.073658,
     "end_time": "2021-06-23T13:08:15.537272",
     "exception": false,
     "start_time": "2021-06-23T13:08:15.463614",
     "status": "completed"
    },
    "tags": []
   },
   "source": [
    "# Proses Summarization"
   ]
  },
  {
   "cell_type": "code",
   "execution_count": 21,
   "id": "abstract-twelve",
   "metadata": {
    "execution": {
     "iopub.execute_input": "2021-06-23T13:08:15.688391Z",
     "iopub.status.busy": "2021-06-23T13:08:15.687778Z",
     "iopub.status.idle": "2021-06-23T13:08:15.707084Z",
     "shell.execute_reply": "2021-06-23T13:08:15.707579Z",
     "shell.execute_reply.started": "2021-06-23T12:50:07.144586Z"
    },
    "id": "Dj6xous80aWw",
    "papermill": {
     "duration": 0.096263,
     "end_time": "2021-06-23T13:08:15.707771",
     "exception": false,
     "start_time": "2021-06-23T13:08:15.611508",
     "status": "completed"
    },
    "tags": []
   },
   "outputs": [],
   "source": [
    "data_detik['teks'] = data_detik['teks'].apply(lambda x:preprocess().proses_1(x))"
   ]
  },
  {
   "cell_type": "code",
   "execution_count": 22,
   "id": "minor-reasoning",
   "metadata": {
    "execution": {
     "iopub.execute_input": "2021-06-23T13:08:15.865067Z",
     "iopub.status.busy": "2021-06-23T13:08:15.864361Z",
     "iopub.status.idle": "2021-06-23T13:08:15.868179Z",
     "shell.execute_reply": "2021-06-23T13:08:15.868673Z",
     "shell.execute_reply.started": "2021-06-23T12:50:09.188528Z"
    },
    "id": "0fIJsDzf4QSi",
    "papermill": {
     "duration": 0.086392,
     "end_time": "2021-06-23T13:08:15.868849",
     "exception": false,
     "start_time": "2021-06-23T13:08:15.782457",
     "status": "completed"
    },
    "tags": []
   },
   "outputs": [],
   "source": [
    "import itertools\n",
    "import matplotlib.pyplot as plt\n",
    "from nltk.tokenize import word_tokenize\n",
    "from nltk.probability import FreqDist"
   ]
  },
  {
   "cell_type": "code",
   "execution_count": 23,
   "id": "double-frontier",
   "metadata": {
    "execution": {
     "iopub.execute_input": "2021-06-23T13:08:16.023452Z",
     "iopub.status.busy": "2021-06-23T13:08:16.022746Z",
     "iopub.status.idle": "2021-06-23T13:08:35.400720Z",
     "shell.execute_reply": "2021-06-23T13:08:35.399993Z",
     "shell.execute_reply.started": "2021-06-23T12:50:10.409015Z"
    },
    "id": "zWOK3waL4V3i",
    "outputId": "8b3b81da-7f50-4f32-9037-32ebae40f62e",
    "papermill": {
     "duration": 19.457619,
     "end_time": "2021-06-23T13:08:35.400862",
     "exception": false,
     "start_time": "2021-06-23T13:08:15.943243",
     "status": "completed"
    },
    "tags": []
   },
   "outputs": [
    {
     "name": "stdout",
     "output_type": "stream",
     "text": [
      "[nltk_data] Downloading collection 'all'\n",
      "[nltk_data]    | \n",
      "[nltk_data]    | Downloading package abc to /usr/share/nltk_data...\n",
      "[nltk_data]    |   Package abc is already up-to-date!\n",
      "[nltk_data]    | Downloading package alpino to /usr/share/nltk_data...\n",
      "[nltk_data]    |   Package alpino is already up-to-date!\n",
      "[nltk_data]    | Downloading package biocreative_ppi to\n",
      "[nltk_data]    |     /usr/share/nltk_data...\n",
      "[nltk_data]    |   Package biocreative_ppi is already up-to-date!\n",
      "[nltk_data]    | Downloading package brown to /usr/share/nltk_data...\n",
      "[nltk_data]    |   Package brown is already up-to-date!\n",
      "[nltk_data]    | Downloading package brown_tei to\n",
      "[nltk_data]    |     /usr/share/nltk_data...\n",
      "[nltk_data]    |   Package brown_tei is already up-to-date!\n",
      "[nltk_data]    | Downloading package cess_cat to\n",
      "[nltk_data]    |     /usr/share/nltk_data...\n",
      "[nltk_data]    |   Package cess_cat is already up-to-date!\n",
      "[nltk_data]    | Downloading package cess_esp to\n",
      "[nltk_data]    |     /usr/share/nltk_data...\n",
      "[nltk_data]    |   Package cess_esp is already up-to-date!\n",
      "[nltk_data]    | Downloading package chat80 to /usr/share/nltk_data...\n",
      "[nltk_data]    |   Package chat80 is already up-to-date!\n",
      "[nltk_data]    | Downloading package city_database to\n",
      "[nltk_data]    |     /usr/share/nltk_data...\n",
      "[nltk_data]    |   Package city_database is already up-to-date!\n",
      "[nltk_data]    | Downloading package cmudict to\n",
      "[nltk_data]    |     /usr/share/nltk_data...\n",
      "[nltk_data]    |   Package cmudict is already up-to-date!\n",
      "[nltk_data]    | Downloading package comparative_sentences to\n",
      "[nltk_data]    |     /usr/share/nltk_data...\n",
      "[nltk_data]    |   Unzipping corpora/comparative_sentences.zip.\n",
      "[nltk_data]    | Downloading package comtrans to\n",
      "[nltk_data]    |     /usr/share/nltk_data...\n",
      "[nltk_data]    |   Package comtrans is already up-to-date!\n",
      "[nltk_data]    | Downloading package conll2000 to\n",
      "[nltk_data]    |     /usr/share/nltk_data...\n",
      "[nltk_data]    |   Package conll2000 is already up-to-date!\n",
      "[nltk_data]    | Downloading package conll2002 to\n",
      "[nltk_data]    |     /usr/share/nltk_data...\n",
      "[nltk_data]    |   Package conll2002 is already up-to-date!\n",
      "[nltk_data]    | Downloading package conll2007 to\n",
      "[nltk_data]    |     /usr/share/nltk_data...\n",
      "[nltk_data]    |   Package conll2007 is already up-to-date!\n",
      "[nltk_data]    | Downloading package crubadan to\n",
      "[nltk_data]    |     /usr/share/nltk_data...\n",
      "[nltk_data]    |   Package crubadan is already up-to-date!\n",
      "[nltk_data]    | Downloading package dependency_treebank to\n",
      "[nltk_data]    |     /usr/share/nltk_data...\n",
      "[nltk_data]    |   Package dependency_treebank is already up-to-date!\n",
      "[nltk_data]    | Downloading package dolch to /usr/share/nltk_data...\n",
      "[nltk_data]    |   Unzipping corpora/dolch.zip.\n",
      "[nltk_data]    | Downloading package europarl_raw to\n",
      "[nltk_data]    |     /usr/share/nltk_data...\n",
      "[nltk_data]    |   Package europarl_raw is already up-to-date!\n",
      "[nltk_data]    | Downloading package floresta to\n",
      "[nltk_data]    |     /usr/share/nltk_data...\n",
      "[nltk_data]    |   Package floresta is already up-to-date!\n",
      "[nltk_data]    | Downloading package framenet_v15 to\n",
      "[nltk_data]    |     /usr/share/nltk_data...\n",
      "[nltk_data]    |   Unzipping corpora/framenet_v15.zip.\n",
      "[nltk_data]    | Downloading package framenet_v17 to\n",
      "[nltk_data]    |     /usr/share/nltk_data...\n",
      "[nltk_data]    |   Unzipping corpora/framenet_v17.zip.\n",
      "[nltk_data]    | Downloading package gazetteers to\n",
      "[nltk_data]    |     /usr/share/nltk_data...\n",
      "[nltk_data]    |   Package gazetteers is already up-to-date!\n",
      "[nltk_data]    | Downloading package genesis to\n",
      "[nltk_data]    |     /usr/share/nltk_data...\n",
      "[nltk_data]    |   Package genesis is already up-to-date!\n",
      "[nltk_data]    | Downloading package gutenberg to\n",
      "[nltk_data]    |     /usr/share/nltk_data...\n",
      "[nltk_data]    |   Package gutenberg is already up-to-date!\n",
      "[nltk_data]    | Downloading package ieer to /usr/share/nltk_data...\n",
      "[nltk_data]    |   Package ieer is already up-to-date!\n",
      "[nltk_data]    | Downloading package inaugural to\n",
      "[nltk_data]    |     /usr/share/nltk_data...\n",
      "[nltk_data]    |   Package inaugural is already up-to-date!\n",
      "[nltk_data]    | Downloading package indian to /usr/share/nltk_data...\n",
      "[nltk_data]    |   Package indian is already up-to-date!\n",
      "[nltk_data]    | Downloading package jeita to /usr/share/nltk_data...\n",
      "[nltk_data]    |   Package jeita is already up-to-date!\n",
      "[nltk_data]    | Downloading package kimmo to /usr/share/nltk_data...\n",
      "[nltk_data]    |   Package kimmo is already up-to-date!\n",
      "[nltk_data]    | Downloading package knbc to /usr/share/nltk_data...\n",
      "[nltk_data]    |   Package knbc is already up-to-date!\n",
      "[nltk_data]    | Downloading package lin_thesaurus to\n",
      "[nltk_data]    |     /usr/share/nltk_data...\n",
      "[nltk_data]    |   Package lin_thesaurus is already up-to-date!\n",
      "[nltk_data]    | Downloading package mac_morpho to\n",
      "[nltk_data]    |     /usr/share/nltk_data...\n",
      "[nltk_data]    |   Package mac_morpho is already up-to-date!\n",
      "[nltk_data]    | Downloading package machado to\n",
      "[nltk_data]    |     /usr/share/nltk_data...\n",
      "[nltk_data]    |   Package machado is already up-to-date!\n",
      "[nltk_data]    | Downloading package masc_tagged to\n",
      "[nltk_data]    |     /usr/share/nltk_data...\n",
      "[nltk_data]    |   Package masc_tagged is already up-to-date!\n",
      "[nltk_data]    | Downloading package moses_sample to\n",
      "[nltk_data]    |     /usr/share/nltk_data...\n",
      "[nltk_data]    |   Package moses_sample is already up-to-date!\n",
      "[nltk_data]    | Downloading package movie_reviews to\n",
      "[nltk_data]    |     /usr/share/nltk_data...\n",
      "[nltk_data]    |   Package movie_reviews is already up-to-date!\n",
      "[nltk_data]    | Downloading package names to /usr/share/nltk_data...\n",
      "[nltk_data]    |   Package names is already up-to-date!\n",
      "[nltk_data]    | Downloading package nombank.1.0 to\n",
      "[nltk_data]    |     /usr/share/nltk_data...\n",
      "[nltk_data]    | Downloading package nps_chat to\n",
      "[nltk_data]    |     /usr/share/nltk_data...\n",
      "[nltk_data]    |   Package nps_chat is already up-to-date!\n",
      "[nltk_data]    | Downloading package omw to /usr/share/nltk_data...\n",
      "[nltk_data]    |   Package omw is already up-to-date!\n",
      "[nltk_data]    | Downloading package opinion_lexicon to\n",
      "[nltk_data]    |     /usr/share/nltk_data...\n",
      "[nltk_data]    |   Package opinion_lexicon is already up-to-date!\n",
      "[nltk_data]    | Downloading package paradigms to\n",
      "[nltk_data]    |     /usr/share/nltk_data...\n",
      "[nltk_data]    |   Package paradigms is already up-to-date!\n",
      "[nltk_data]    | Downloading package pil to /usr/share/nltk_data...\n",
      "[nltk_data]    |   Package pil is already up-to-date!\n",
      "[nltk_data]    | Downloading package pl196x to /usr/share/nltk_data...\n",
      "[nltk_data]    |   Package pl196x is already up-to-date!\n",
      "[nltk_data]    | Downloading package ppattach to\n",
      "[nltk_data]    |     /usr/share/nltk_data...\n",
      "[nltk_data]    |   Package ppattach is already up-to-date!\n",
      "[nltk_data]    | Downloading package problem_reports to\n",
      "[nltk_data]    |     /usr/share/nltk_data...\n",
      "[nltk_data]    |   Package problem_reports is already up-to-date!\n",
      "[nltk_data]    | Downloading package propbank to\n",
      "[nltk_data]    |     /usr/share/nltk_data...\n",
      "[nltk_data]    |   Package propbank is already up-to-date!\n",
      "[nltk_data]    | Downloading package ptb to /usr/share/nltk_data...\n",
      "[nltk_data]    |   Package ptb is already up-to-date!\n",
      "[nltk_data]    | Downloading package product_reviews_1 to\n",
      "[nltk_data]    |     /usr/share/nltk_data...\n",
      "[nltk_data]    |   Package product_reviews_1 is already up-to-date!\n",
      "[nltk_data]    | Downloading package product_reviews_2 to\n",
      "[nltk_data]    |     /usr/share/nltk_data...\n",
      "[nltk_data]    |   Package product_reviews_2 is already up-to-date!\n",
      "[nltk_data]    | Downloading package pros_cons to\n",
      "[nltk_data]    |     /usr/share/nltk_data...\n",
      "[nltk_data]    |   Package pros_cons is already up-to-date!\n",
      "[nltk_data]    | Downloading package qc to /usr/share/nltk_data...\n",
      "[nltk_data]    |   Package qc is already up-to-date!\n",
      "[nltk_data]    | Downloading package reuters to\n",
      "[nltk_data]    |     /usr/share/nltk_data...\n",
      "[nltk_data]    |   Package reuters is already up-to-date!\n",
      "[nltk_data]    | Downloading package rte to /usr/share/nltk_data...\n",
      "[nltk_data]    |   Package rte is already up-to-date!\n",
      "[nltk_data]    | Downloading package semcor to /usr/share/nltk_data...\n",
      "[nltk_data]    |   Package semcor is already up-to-date!\n",
      "[nltk_data]    | Downloading package senseval to\n",
      "[nltk_data]    |     /usr/share/nltk_data...\n",
      "[nltk_data]    |   Package senseval is already up-to-date!\n",
      "[nltk_data]    | Downloading package sentiwordnet to\n",
      "[nltk_data]    |     /usr/share/nltk_data...\n",
      "[nltk_data]    |   Package sentiwordnet is already up-to-date!\n",
      "[nltk_data]    | Downloading package sentence_polarity to\n",
      "[nltk_data]    |     /usr/share/nltk_data...\n",
      "[nltk_data]    |   Package sentence_polarity is already up-to-date!\n",
      "[nltk_data]    | Downloading package shakespeare to\n",
      "[nltk_data]    |     /usr/share/nltk_data...\n",
      "[nltk_data]    |   Package shakespeare is already up-to-date!\n",
      "[nltk_data]    | Downloading package sinica_treebank to\n",
      "[nltk_data]    |     /usr/share/nltk_data...\n",
      "[nltk_data]    |   Package sinica_treebank is already up-to-date!\n",
      "[nltk_data]    | Downloading package smultron to\n",
      "[nltk_data]    |     /usr/share/nltk_data...\n",
      "[nltk_data]    |   Package smultron is already up-to-date!\n",
      "[nltk_data]    | Downloading package state_union to\n",
      "[nltk_data]    |     /usr/share/nltk_data...\n",
      "[nltk_data]    |   Package state_union is already up-to-date!\n",
      "[nltk_data]    | Downloading package stopwords to\n",
      "[nltk_data]    |     /usr/share/nltk_data...\n",
      "[nltk_data]    |   Package stopwords is already up-to-date!\n",
      "[nltk_data]    | Downloading package subjectivity to\n",
      "[nltk_data]    |     /usr/share/nltk_data...\n",
      "[nltk_data]    |   Package subjectivity is already up-to-date!\n",
      "[nltk_data]    | Downloading package swadesh to\n",
      "[nltk_data]    |     /usr/share/nltk_data...\n",
      "[nltk_data]    |   Package swadesh is already up-to-date!\n",
      "[nltk_data]    | Downloading package switchboard to\n",
      "[nltk_data]    |     /usr/share/nltk_data...\n",
      "[nltk_data]    |   Package switchboard is already up-to-date!\n",
      "[nltk_data]    | Downloading package timit to /usr/share/nltk_data...\n",
      "[nltk_data]    |   Package timit is already up-to-date!\n",
      "[nltk_data]    | Downloading package toolbox to\n",
      "[nltk_data]    |     /usr/share/nltk_data...\n",
      "[nltk_data]    |   Package toolbox is already up-to-date!\n",
      "[nltk_data]    | Downloading package treebank to\n",
      "[nltk_data]    |     /usr/share/nltk_data...\n",
      "[nltk_data]    |   Package treebank is already up-to-date!\n",
      "[nltk_data]    | Downloading package twitter_samples to\n",
      "[nltk_data]    |     /usr/share/nltk_data...\n",
      "[nltk_data]    |   Package twitter_samples is already up-to-date!\n",
      "[nltk_data]    | Downloading package udhr to /usr/share/nltk_data...\n",
      "[nltk_data]    |   Package udhr is already up-to-date!\n",
      "[nltk_data]    | Downloading package udhr2 to /usr/share/nltk_data...\n",
      "[nltk_data]    |   Package udhr2 is already up-to-date!\n",
      "[nltk_data]    | Downloading package unicode_samples to\n",
      "[nltk_data]    |     /usr/share/nltk_data...\n",
      "[nltk_data]    |   Package unicode_samples is already up-to-date!\n",
      "[nltk_data]    | Downloading package universal_treebanks_v20 to\n",
      "[nltk_data]    |     /usr/share/nltk_data...\n",
      "[nltk_data]    |   Package universal_treebanks_v20 is already up-to-\n",
      "[nltk_data]    |       date!\n",
      "[nltk_data]    | Downloading package verbnet to\n",
      "[nltk_data]    |     /usr/share/nltk_data...\n",
      "[nltk_data]    |   Package verbnet is already up-to-date!\n",
      "[nltk_data]    | Downloading package verbnet3 to\n",
      "[nltk_data]    |     /usr/share/nltk_data...\n",
      "[nltk_data]    |   Unzipping corpora/verbnet3.zip.\n",
      "[nltk_data]    | Downloading package webtext to\n",
      "[nltk_data]    |     /usr/share/nltk_data...\n",
      "[nltk_data]    |   Package webtext is already up-to-date!\n",
      "[nltk_data]    | Downloading package wordnet to\n",
      "[nltk_data]    |     /usr/share/nltk_data...\n",
      "[nltk_data]    |   Package wordnet is already up-to-date!\n",
      "[nltk_data]    | Downloading package wordnet_ic to\n",
      "[nltk_data]    |     /usr/share/nltk_data...\n",
      "[nltk_data]    |   Package wordnet_ic is already up-to-date!\n",
      "[nltk_data]    | Downloading package words to /usr/share/nltk_data...\n",
      "[nltk_data]    |   Package words is already up-to-date!\n",
      "[nltk_data]    | Downloading package ycoe to /usr/share/nltk_data...\n",
      "[nltk_data]    |   Package ycoe is already up-to-date!\n",
      "[nltk_data]    | Downloading package rslp to /usr/share/nltk_data...\n",
      "[nltk_data]    |   Package rslp is already up-to-date!\n",
      "[nltk_data]    | Downloading package maxent_treebank_pos_tagger to\n",
      "[nltk_data]    |     /usr/share/nltk_data...\n",
      "[nltk_data]    |   Package maxent_treebank_pos_tagger is already up-\n",
      "[nltk_data]    |       to-date!\n",
      "[nltk_data]    | Downloading package universal_tagset to\n",
      "[nltk_data]    |     /usr/share/nltk_data...\n",
      "[nltk_data]    |   Package universal_tagset is already up-to-date!\n",
      "[nltk_data]    | Downloading package maxent_ne_chunker to\n",
      "[nltk_data]    |     /usr/share/nltk_data...\n",
      "[nltk_data]    |   Package maxent_ne_chunker is already up-to-date!\n",
      "[nltk_data]    | Downloading package punkt to /usr/share/nltk_data...\n",
      "[nltk_data]    |   Package punkt is already up-to-date!\n",
      "[nltk_data]    | Downloading package book_grammars to\n",
      "[nltk_data]    |     /usr/share/nltk_data...\n",
      "[nltk_data]    |   Package book_grammars is already up-to-date!\n",
      "[nltk_data]    | Downloading package sample_grammars to\n",
      "[nltk_data]    |     /usr/share/nltk_data...\n",
      "[nltk_data]    |   Package sample_grammars is already up-to-date!\n",
      "[nltk_data]    | Downloading package spanish_grammars to\n",
      "[nltk_data]    |     /usr/share/nltk_data...\n",
      "[nltk_data]    |   Package spanish_grammars is already up-to-date!\n",
      "[nltk_data]    | Downloading package basque_grammars to\n",
      "[nltk_data]    |     /usr/share/nltk_data...\n",
      "[nltk_data]    |   Package basque_grammars is already up-to-date!\n",
      "[nltk_data]    | Downloading package large_grammars to\n",
      "[nltk_data]    |     /usr/share/nltk_data...\n",
      "[nltk_data]    |   Package large_grammars is already up-to-date!\n",
      "[nltk_data]    | Downloading package tagsets to\n",
      "[nltk_data]    |     /usr/share/nltk_data...\n",
      "[nltk_data]    |   Package tagsets is already up-to-date!\n",
      "[nltk_data]    | Downloading package snowball_data to\n",
      "[nltk_data]    |     /usr/share/nltk_data...\n",
      "[nltk_data]    |   Package snowball_data is already up-to-date!\n",
      "[nltk_data]    | Downloading package bllip_wsj_no_aux to\n",
      "[nltk_data]    |     /usr/share/nltk_data...\n",
      "[nltk_data]    |   Package bllip_wsj_no_aux is already up-to-date!\n",
      "[nltk_data]    | Downloading package word2vec_sample to\n",
      "[nltk_data]    |     /usr/share/nltk_data...\n",
      "[nltk_data]    |   Package word2vec_sample is already up-to-date!\n",
      "[nltk_data]    | Downloading package panlex_swadesh to\n",
      "[nltk_data]    |     /usr/share/nltk_data...\n",
      "[nltk_data]    | Downloading package mte_teip5 to\n",
      "[nltk_data]    |     /usr/share/nltk_data...\n",
      "[nltk_data]    |   Package mte_teip5 is already up-to-date!\n",
      "[nltk_data]    | Downloading package averaged_perceptron_tagger to\n",
      "[nltk_data]    |     /usr/share/nltk_data...\n",
      "[nltk_data]    |   Package averaged_perceptron_tagger is already up-\n",
      "[nltk_data]    |       to-date!\n",
      "[nltk_data]    | Downloading package averaged_perceptron_tagger_ru to\n",
      "[nltk_data]    |     /usr/share/nltk_data...\n",
      "[nltk_data]    |   Unzipping\n",
      "[nltk_data]    |       taggers/averaged_perceptron_tagger_ru.zip.\n",
      "[nltk_data]    | Downloading package perluniprops to\n",
      "[nltk_data]    |     /usr/share/nltk_data...\n",
      "[nltk_data]    |   Unzipping misc/perluniprops.zip.\n",
      "[nltk_data]    | Downloading package nonbreaking_prefixes to\n",
      "[nltk_data]    |     /usr/share/nltk_data...\n",
      "[nltk_data]    |   Unzipping corpora/nonbreaking_prefixes.zip.\n",
      "[nltk_data]    | Downloading package vader_lexicon to\n",
      "[nltk_data]    |     /usr/share/nltk_data...\n",
      "[nltk_data]    |   Package vader_lexicon is already up-to-date!\n",
      "[nltk_data]    | Downloading package porter_test to\n",
      "[nltk_data]    |     /usr/share/nltk_data...\n",
      "[nltk_data]    |   Package porter_test is already up-to-date!\n",
      "[nltk_data]    | Downloading package wmt15_eval to\n",
      "[nltk_data]    |     /usr/share/nltk_data...\n",
      "[nltk_data]    |   Unzipping models/wmt15_eval.zip.\n",
      "[nltk_data]    | Downloading package mwa_ppdb to\n",
      "[nltk_data]    |     /usr/share/nltk_data...\n",
      "[nltk_data]    |   Unzipping misc/mwa_ppdb.zip.\n",
      "[nltk_data]    | \n",
      "[nltk_data]  Done downloading collection all\n"
     ]
    },
    {
     "data": {
      "text/plain": [
       "True"
      ]
     },
     "execution_count": 23,
     "metadata": {},
     "output_type": "execute_result"
    }
   ],
   "source": [
    "nltk.download('all')"
   ]
  },
  {
   "cell_type": "code",
   "execution_count": 24,
   "id": "wooden-amplifier",
   "metadata": {
    "execution": {
     "iopub.execute_input": "2021-06-23T13:08:35.580327Z",
     "iopub.status.busy": "2021-06-23T13:08:35.579625Z",
     "iopub.status.idle": "2021-06-23T13:08:35.584963Z",
     "shell.execute_reply": "2021-06-23T13:08:35.584452Z",
     "shell.execute_reply.started": "2021-06-23T12:50:29.196229Z"
    },
    "id": "SjZlW0UL4sHF",
    "outputId": "643c33c0-0ad2-4ae2-9d09-64b0d963b8dd",
    "papermill": {
     "duration": 0.102537,
     "end_time": "2021-06-23T13:08:35.585108",
     "exception": false,
     "start_time": "2021-06-23T13:08:35.482571",
     "status": "completed"
    },
    "tags": []
   },
   "outputs": [
    {
     "data": {
      "text/plain": [
       "[['kepala',\n",
       "  'badan',\n",
       "  'pengawas',\n",
       "  'obat',\n",
       "  'makanan',\n",
       "  'bpom',\n",
       "  'menanggapi',\n",
       "  'proses',\n",
       "  'uji',\n",
       "  'vaksin',\n",
       "  'nusantara',\n",
       "  'rspad',\n",
       "  'gatot',\n",
       "  'soebroto',\n",
       "  'rabu',\n",
       "  'kegiatan',\n",
       "  'kaitannya',\n",
       "  'bpom',\n",
       "  'bpom',\n",
       "  'kapasitas',\n",
       "  'bpom',\n",
       "  'kepala',\n",
       "  'bpom',\n",
       "  'k',\n",
       "  'lukito',\n",
       "  'konferensi',\n",
       "  'pers',\n",
       "  'daring',\n",
       "  'jumat',\n",
       "  'peran',\n",
       "  'bpom',\n",
       "  'proses',\n",
       "  'pengembangan',\n",
       "  'vaksin',\n",
       "  'covid',\n",
       "  'fokus',\n",
       "  'pendampingan',\n",
       "  'uji',\n",
       "  'klinis',\n",
       "  'sesuai',\n",
       "  'standar',\n",
       "  'internasional',\n",
       "  'peneliti',\n",
       "  'vaksin',\n",
       "  'nusantara',\n",
       "  'koreksi',\n",
       "  'apapun',\n",
       "  'evaluasi',\n",
       "  'catatan',\n",
       "  'uji',\n",
       "  'vaksin',\n",
       "  'dendritik',\n",
       "  'fase',\n",
       "  'i',\n",
       "  'menurutnya',\n",
       "  'kunjung',\n",
       "  'koreksi',\n",
       "  'peneliti',\n",
       "  'uji',\n",
       "  'vaksin',\n",
       "  'nusantara',\n",
       "  'fase',\n",
       "  'pengembangan',\n",
       "  'vaksin',\n",
       "  'corona',\n",
       "  'catatan',\n",
       "  'evaluasi',\n",
       "  'bpom',\n",
       "  'uji',\n",
       "  'vaksin',\n",
       "  'fase',\n",
       "  'i',\n",
       "  'nusantara',\n",
       "  'diganggu',\n",
       "  'gugat',\n",
       "  'final',\n",
       "  'penilaian',\n",
       "  'menunggu',\n",
       "  'koreksi',\n",
       "  'vaksin',\n",
       "  'dendritik',\n",
       "  'dikomersilkan',\n",
       "  'nama',\n",
       "  'vaksin',\n",
       "  'nusantara',\n",
       "  'koreksi',\n",
       "  'fase',\n",
       "  'i',\n",
       "  'sembari',\n",
       "  'menekankan',\n",
       "  'berkomentar',\n",
       "  'vaksin',\n",
       "  'nusantara',\n",
       "  'mengimbau',\n",
       "  'pelajaran',\n",
       "  'mengembangkan',\n",
       "  'vaksin',\n",
       "  'covid',\n",
       "  'mengikuti',\n",
       "  'aturan',\n",
       "  'kaidah',\n",
       "  'klinis',\n",
       "  'keselamatan',\n",
       "  'nyawa',\n",
       "  'penerima',\n",
       "  'vaksin',\n",
       "  'corona',\n",
       "  'tokoh',\n",
       "  'mengikuti',\n",
       "  'uji',\n",
       "  'relawan',\n",
       "  'vaksin',\n",
       "  'nusantara',\n",
       "  'rspad',\n",
       "  'meliputi',\n",
       "  'eks',\n",
       "  'menkes',\n",
       "  'siti',\n",
       "  'fadhilah',\n",
       "  'supari',\n",
       "  'mantan',\n",
       "  'panglima',\n",
       "  'tni',\n",
       "  'jenderal',\n",
       "  'purn',\n",
       "  'gatot',\n",
       "  'nurmantyo',\n",
       "  'wakil',\n",
       "  'ketua',\n",
       "  'dpr',\n",
       "  'sufmi',\n",
       "  'dasco',\n",
       "  'ahmad',\n",
       "  'anggota',\n",
       "  'dpr',\n",
       "  'fraksi',\n",
       "  'pan',\n",
       "  'saleh',\n",
       "  'daulay',\n",
       "  'anggota',\n",
       "  'dpr',\n",
       "  'ri',\n",
       "  'fraksi',\n",
       "  'pdip',\n",
       "  'adian',\n",
       "  'napitupulu',\n",
       "  'politikus',\n",
       "  'senior',\n",
       "  'golkar',\n",
       "  'aburizal',\n",
       "  'bakrie',\n",
       "  'vaksin',\n",
       "  'nusantara',\n",
       "  'besutan',\n",
       "  'dr',\n",
       "  'terawan',\n",
       "  'juru',\n",
       "  'bicara',\n",
       "  'vaksinasi',\n",
       "  'covid',\n",
       "  'kementerian',\n",
       "  'kesehatan',\n",
       "  'ri',\n",
       "  'dr',\n",
       "  'siti',\n",
       "  'tarmizi',\n",
       "  'terkait',\n",
       "  'vaksinasi',\n",
       "  'puasa',\n",
       "  'vaksinasi',\n",
       "  'dilanjutkan',\n",
       "  'majelis',\n",
       "  'ulama',\n",
       "  'indonesia',\n",
       "  'mui',\n",
       "  'menerbitkan',\n",
       "  'fatwa',\n",
       "  'vaksinasi',\n",
       "  'puasa',\n",
       "  'terkait',\n",
       "  'dekatnya',\n",
       "  'ramadhan',\n",
       "  'jatuh',\n",
       "  'pertengahan',\n",
       "  'april',\n",
       "  'kementerian',\n",
       "  'kesehatan',\n",
       "  'kementerian',\n",
       "  'terkait',\n",
       "  'berdiskusi',\n",
       "  'mui',\n",
       "  'mengeluarkan',\n",
       "  'fatwa',\n",
       "  'vaksinasi',\n",
       "  'covid',\n",
       "  'membatalkan',\n",
       "  'puasa',\n",
       "  'umat',\n",
       "  'islam',\n",
       "  'berpuasa',\n",
       "  'dr',\n",
       "  'siaran',\n",
       "  'pers',\n",
       "  'temu',\n",
       "  'media',\n",
       "  'update',\n",
       "  'penanggulangan',\n",
       "  'covid',\n",
       "  'minggu',\n",
       "  'dr',\n",
       "  'berdasarkan',\n",
       "  'keputusan',\n",
       "  'mui',\n",
       "  'merekomendasikan',\n",
       "  'pemerintah',\n",
       "  'vaksinasi',\n",
       "  'ramadhan',\n",
       "  'mencegah',\n",
       "  'penyebaran',\n",
       "  'covid',\n",
       "  'vaksinasi',\n",
       "  'ramadhan',\n",
       "  'memperhatikan',\n",
       "  'kondisi',\n",
       "  'umat',\n",
       "  'islam',\n",
       "  'menjalankan',\n",
       "  'ibadah',\n",
       "  'puasa',\n",
       "  'mui',\n",
       "  'menyarankan',\n",
       "  'khawatir',\n",
       "  'efek',\n",
       "  'samping',\n",
       "  'vaksinasi',\n",
       "  'puasa',\n",
       "  'penyuntikkan',\n",
       "  'vaksin',\n",
       "  'covid',\n",
       "  'dianjurkan',\n",
       "  'malam',\n",
       "  'pemerintah',\n",
       "  'vaksinasi',\n",
       "  'covid',\n",
       "  'malam',\n",
       "  'ramadhan',\n",
       "  'umat',\n",
       "  'islam',\n",
       "  'asrorun',\n",
       "  'niam',\n",
       "  'sholeh',\n",
       "  'keterangan',\n",
       "  'resmi',\n",
       "  'dikutip',\n",
       "  'cnn',\n",
       "  'indonesia',\n",
       "  'rabu',\n",
       "  'vaksinasi',\n",
       "  'covid',\n",
       "  'berpuasa',\n",
       "  'persiapan',\n",
       "  'khusus',\n",
       "  'badan',\n",
       "  'pengawas',\n",
       "  'obat',\n",
       "  'makanan',\n",
       "  'bpom',\n",
       "  'vaksin',\n",
       "  'merah',\n",
       "  'putih',\n",
       "  'dikembangkan',\n",
       "  'universitas',\n",
       "  'airlangga',\n",
       "  'unair',\n",
       "  'emergency',\n",
       "  'use',\n",
       "  'authorization',\n",
       "  'eua',\n",
       "  'langsung',\n",
       "  'kepala',\n",
       "  'bpom',\n",
       "  'k',\n",
       "  'lukito',\n",
       "  'rapat',\n",
       "  'komisi',\n",
       "  'ix',\n",
       "  'dpr',\n",
       "  'ri',\n",
       "  'vaksin',\n",
       "  'uji',\n",
       "  'praklinik',\n",
       "  'binatang',\n",
       "  'april',\n",
       "  'uji',\n",
       "  'kliniknya',\n",
       "  'selesai',\n",
       "  'september',\n",
       "  'oktober',\n",
       "  'emergency',\n",
       "  'use',\n",
       "  'authorization',\n",
       "  'oktober',\n",
       "  'produksi',\n",
       "  'massal',\n",
       "  'rapat',\n",
       "  'disiarkan',\n",
       "  'youtube',\n",
       "  'komisi',\n",
       "  'ix',\n",
       "  'dpr',\n",
       "  'ri',\n",
       "  'kamis',\n",
       "  'vaksin',\n",
       "  'corona',\n",
       "  'merah',\n",
       "  'putih',\n",
       "  'dikembangkan',\n",
       "  'lembaga',\n",
       "  'eijkman',\n",
       "  'uji',\n",
       "  'klinisnya',\n",
       "  'berjalan',\n",
       "  'berdasarkan',\n",
       "  'roadmap',\n",
       "  'uji',\n",
       "  'klinik',\n",
       "  'vaksin',\n",
       "  'merah',\n",
       "  'putih',\n",
       "  'eijkman',\n",
       "  'selesai',\n",
       "  'semester',\n",
       "  'vaksin',\n",
       "  'merah',\n",
       "  'putih',\n",
       "  'eijkman',\n",
       "  'bio',\n",
       "  'farma',\n",
       "  'harapan',\n",
       "  'proyeksinya',\n",
       "  'timelinenya',\n",
       "  'uji',\n",
       "  'klinik',\n",
       "  'selesai',\n",
       "  'semester',\n",
       "  'eua',\n",
       "  'september',\n",
       "  'produksi',\n",
       "  'massal',\n",
       "  'dilaksanakan',\n",
       "  'oktober',\n",
       "  'pungkasnya',\n",
       "  'vaksin',\n",
       "  'corona',\n",
       "  'kantongi',\n",
       "  'restu',\n",
       "  'who']]"
      ]
     },
     "execution_count": 24,
     "metadata": {},
     "output_type": "execute_result"
    }
   ],
   "source": [
    "# tokenasi data untuk tiap kata\n",
    "data = [word_tokenize(paragraf) for paragraf in data_detik['teks']]\n",
    "\n",
    "data"
   ]
  },
  {
   "cell_type": "code",
   "execution_count": 25,
   "id": "verified-layout",
   "metadata": {
    "execution": {
     "iopub.execute_input": "2021-06-23T13:08:35.761906Z",
     "iopub.status.busy": "2021-06-23T13:08:35.761228Z",
     "iopub.status.idle": "2021-06-23T13:08:35.765575Z",
     "shell.execute_reply": "2021-06-23T13:08:35.765040Z",
     "shell.execute_reply.started": "2021-06-23T12:50:29.219318Z"
    },
    "id": "OGVGTlWe6tWU",
    "outputId": "a2af8d3e-f908-48d3-cd92-8dcdf772b55b",
    "papermill": {
     "duration": 0.098245,
     "end_time": "2021-06-23T13:08:35.765724",
     "exception": false,
     "start_time": "2021-06-23T13:08:35.667479",
     "status": "completed"
    },
    "tags": []
   },
   "outputs": [
    {
     "data": {
      "text/plain": [
       "['kepala',\n",
       " 'badan',\n",
       " 'pengawas',\n",
       " 'obat',\n",
       " 'makanan',\n",
       " 'bpom',\n",
       " 'menanggapi',\n",
       " 'proses',\n",
       " 'uji',\n",
       " 'vaksin',\n",
       " 'nusantara',\n",
       " 'rspad',\n",
       " 'gatot',\n",
       " 'soebroto',\n",
       " 'rabu',\n",
       " 'kegiatan',\n",
       " 'kaitannya',\n",
       " 'bpom',\n",
       " 'bpom',\n",
       " 'kapasitas',\n",
       " 'bpom',\n",
       " 'kepala',\n",
       " 'bpom',\n",
       " 'k',\n",
       " 'lukito',\n",
       " 'konferensi',\n",
       " 'pers',\n",
       " 'daring',\n",
       " 'jumat',\n",
       " 'peran',\n",
       " 'bpom',\n",
       " 'proses',\n",
       " 'pengembangan',\n",
       " 'vaksin',\n",
       " 'covid',\n",
       " 'fokus',\n",
       " 'pendampingan',\n",
       " 'uji',\n",
       " 'klinis',\n",
       " 'sesuai',\n",
       " 'standar',\n",
       " 'internasional',\n",
       " 'peneliti',\n",
       " 'vaksin',\n",
       " 'nusantara',\n",
       " 'koreksi',\n",
       " 'apapun',\n",
       " 'evaluasi',\n",
       " 'catatan',\n",
       " 'uji',\n",
       " 'vaksin',\n",
       " 'dendritik',\n",
       " 'fase',\n",
       " 'i',\n",
       " 'menurutnya',\n",
       " 'kunjung',\n",
       " 'koreksi',\n",
       " 'peneliti',\n",
       " 'uji',\n",
       " 'vaksin',\n",
       " 'nusantara',\n",
       " 'fase',\n",
       " 'pengembangan',\n",
       " 'vaksin',\n",
       " 'corona',\n",
       " 'catatan',\n",
       " 'evaluasi',\n",
       " 'bpom',\n",
       " 'uji',\n",
       " 'vaksin',\n",
       " 'fase',\n",
       " 'i',\n",
       " 'nusantara',\n",
       " 'diganggu',\n",
       " 'gugat',\n",
       " 'final',\n",
       " 'penilaian',\n",
       " 'menunggu',\n",
       " 'koreksi',\n",
       " 'vaksin',\n",
       " 'dendritik',\n",
       " 'dikomersilkan',\n",
       " 'nama',\n",
       " 'vaksin',\n",
       " 'nusantara',\n",
       " 'koreksi',\n",
       " 'fase',\n",
       " 'i',\n",
       " 'sembari',\n",
       " 'menekankan',\n",
       " 'berkomentar',\n",
       " 'vaksin',\n",
       " 'nusantara',\n",
       " 'mengimbau',\n",
       " 'pelajaran',\n",
       " 'mengembangkan',\n",
       " 'vaksin',\n",
       " 'covid',\n",
       " 'mengikuti',\n",
       " 'aturan',\n",
       " 'kaidah',\n",
       " 'klinis',\n",
       " 'keselamatan',\n",
       " 'nyawa',\n",
       " 'penerima',\n",
       " 'vaksin',\n",
       " 'corona',\n",
       " 'tokoh',\n",
       " 'mengikuti',\n",
       " 'uji',\n",
       " 'relawan',\n",
       " 'vaksin',\n",
       " 'nusantara',\n",
       " 'rspad',\n",
       " 'meliputi',\n",
       " 'eks',\n",
       " 'menkes',\n",
       " 'siti',\n",
       " 'fadhilah',\n",
       " 'supari',\n",
       " 'mantan',\n",
       " 'panglima',\n",
       " 'tni',\n",
       " 'jenderal',\n",
       " 'purn',\n",
       " 'gatot',\n",
       " 'nurmantyo',\n",
       " 'wakil',\n",
       " 'ketua',\n",
       " 'dpr',\n",
       " 'sufmi',\n",
       " 'dasco',\n",
       " 'ahmad',\n",
       " 'anggota',\n",
       " 'dpr',\n",
       " 'fraksi',\n",
       " 'pan',\n",
       " 'saleh',\n",
       " 'daulay',\n",
       " 'anggota',\n",
       " 'dpr',\n",
       " 'ri',\n",
       " 'fraksi',\n",
       " 'pdip',\n",
       " 'adian',\n",
       " 'napitupulu',\n",
       " 'politikus',\n",
       " 'senior',\n",
       " 'golkar',\n",
       " 'aburizal',\n",
       " 'bakrie',\n",
       " 'vaksin',\n",
       " 'nusantara',\n",
       " 'besutan',\n",
       " 'dr',\n",
       " 'terawan',\n",
       " 'juru',\n",
       " 'bicara',\n",
       " 'vaksinasi',\n",
       " 'covid',\n",
       " 'kementerian',\n",
       " 'kesehatan',\n",
       " 'ri',\n",
       " 'dr',\n",
       " 'siti',\n",
       " 'tarmizi',\n",
       " 'terkait',\n",
       " 'vaksinasi',\n",
       " 'puasa',\n",
       " 'vaksinasi',\n",
       " 'dilanjutkan',\n",
       " 'majelis',\n",
       " 'ulama',\n",
       " 'indonesia',\n",
       " 'mui',\n",
       " 'menerbitkan',\n",
       " 'fatwa',\n",
       " 'vaksinasi',\n",
       " 'puasa',\n",
       " 'terkait',\n",
       " 'dekatnya',\n",
       " 'ramadhan',\n",
       " 'jatuh',\n",
       " 'pertengahan',\n",
       " 'april',\n",
       " 'kementerian',\n",
       " 'kesehatan',\n",
       " 'kementerian',\n",
       " 'terkait',\n",
       " 'berdiskusi',\n",
       " 'mui',\n",
       " 'mengeluarkan',\n",
       " 'fatwa',\n",
       " 'vaksinasi',\n",
       " 'covid',\n",
       " 'membatalkan',\n",
       " 'puasa',\n",
       " 'umat',\n",
       " 'islam',\n",
       " 'berpuasa',\n",
       " 'dr',\n",
       " 'siaran',\n",
       " 'pers',\n",
       " 'temu',\n",
       " 'media',\n",
       " 'update',\n",
       " 'penanggulangan',\n",
       " 'covid',\n",
       " 'minggu',\n",
       " 'dr',\n",
       " 'berdasarkan',\n",
       " 'keputusan',\n",
       " 'mui',\n",
       " 'merekomendasikan',\n",
       " 'pemerintah',\n",
       " 'vaksinasi',\n",
       " 'ramadhan',\n",
       " 'mencegah',\n",
       " 'penyebaran',\n",
       " 'covid',\n",
       " 'vaksinasi',\n",
       " 'ramadhan',\n",
       " 'memperhatikan',\n",
       " 'kondisi',\n",
       " 'umat',\n",
       " 'islam',\n",
       " 'menjalankan',\n",
       " 'ibadah',\n",
       " 'puasa',\n",
       " 'mui',\n",
       " 'menyarankan',\n",
       " 'khawatir',\n",
       " 'efek',\n",
       " 'samping',\n",
       " 'vaksinasi',\n",
       " 'puasa',\n",
       " 'penyuntikkan',\n",
       " 'vaksin',\n",
       " 'covid',\n",
       " 'dianjurkan',\n",
       " 'malam',\n",
       " 'pemerintah',\n",
       " 'vaksinasi',\n",
       " 'covid',\n",
       " 'malam',\n",
       " 'ramadhan',\n",
       " 'umat',\n",
       " 'islam',\n",
       " 'asrorun',\n",
       " 'niam',\n",
       " 'sholeh',\n",
       " 'keterangan',\n",
       " 'resmi',\n",
       " 'dikutip',\n",
       " 'cnn',\n",
       " 'indonesia',\n",
       " 'rabu',\n",
       " 'vaksinasi',\n",
       " 'covid',\n",
       " 'berpuasa',\n",
       " 'persiapan',\n",
       " 'khusus',\n",
       " 'badan',\n",
       " 'pengawas',\n",
       " 'obat',\n",
       " 'makanan',\n",
       " 'bpom',\n",
       " 'vaksin',\n",
       " 'merah',\n",
       " 'putih',\n",
       " 'dikembangkan',\n",
       " 'universitas',\n",
       " 'airlangga',\n",
       " 'unair',\n",
       " 'emergency',\n",
       " 'use',\n",
       " 'authorization',\n",
       " 'eua',\n",
       " 'langsung',\n",
       " 'kepala',\n",
       " 'bpom',\n",
       " 'k',\n",
       " 'lukito',\n",
       " 'rapat',\n",
       " 'komisi',\n",
       " 'ix',\n",
       " 'dpr',\n",
       " 'ri',\n",
       " 'vaksin',\n",
       " 'uji',\n",
       " 'praklinik',\n",
       " 'binatang',\n",
       " 'april',\n",
       " 'uji',\n",
       " 'kliniknya',\n",
       " 'selesai',\n",
       " 'september',\n",
       " 'oktober',\n",
       " 'emergency',\n",
       " 'use',\n",
       " 'authorization',\n",
       " 'oktober',\n",
       " 'produksi',\n",
       " 'massal',\n",
       " 'rapat',\n",
       " 'disiarkan',\n",
       " 'youtube',\n",
       " 'komisi',\n",
       " 'ix',\n",
       " 'dpr',\n",
       " 'ri',\n",
       " 'kamis',\n",
       " 'vaksin',\n",
       " 'corona',\n",
       " 'merah',\n",
       " 'putih',\n",
       " 'dikembangkan',\n",
       " 'lembaga',\n",
       " 'eijkman',\n",
       " 'uji',\n",
       " 'klinisnya',\n",
       " 'berjalan',\n",
       " 'berdasarkan',\n",
       " 'roadmap',\n",
       " 'uji',\n",
       " 'klinik',\n",
       " 'vaksin',\n",
       " 'merah',\n",
       " 'putih',\n",
       " 'eijkman',\n",
       " 'selesai',\n",
       " 'semester',\n",
       " 'vaksin',\n",
       " 'merah',\n",
       " 'putih',\n",
       " 'eijkman',\n",
       " 'bio',\n",
       " 'farma',\n",
       " 'harapan',\n",
       " 'proyeksinya',\n",
       " 'timelinenya',\n",
       " 'uji',\n",
       " 'klinik',\n",
       " 'selesai',\n",
       " 'semester',\n",
       " 'eua',\n",
       " 'september',\n",
       " 'produksi',\n",
       " 'massal',\n",
       " 'dilaksanakan',\n",
       " 'oktober',\n",
       " 'pungkasnya',\n",
       " 'vaksin',\n",
       " 'corona',\n",
       " 'kantongi',\n",
       " 'restu',\n",
       " 'who']"
      ]
     },
     "execution_count": 25,
     "metadata": {},
     "output_type": "execute_result"
    }
   ],
   "source": [
    "# menggunakan fungsi itertools.chain untuk melakukan iterasi tiap kata\n",
    "data = list(itertools.chain(*data))\n",
    "\n",
    "data"
   ]
  },
  {
   "cell_type": "markdown",
   "id": "exciting-airline",
   "metadata": {
    "papermill": {
     "duration": 0.109309,
     "end_time": "2021-06-23T13:08:35.962187",
     "exception": false,
     "start_time": "2021-06-23T13:08:35.852878",
     "status": "completed"
    },
    "tags": []
   },
   "source": [
    "# Frequency Distribution\n"
   ]
  },
  {
   "cell_type": "markdown",
   "id": "coral-latitude",
   "metadata": {
    "papermill": {
     "duration": 0.083661,
     "end_time": "2021-06-23T13:08:36.131023",
     "exception": false,
     "start_time": "2021-06-23T13:08:36.047362",
     "status": "completed"
    },
    "tags": []
   },
   "source": [
    "Menggunakan freqdist untuk mengetahui distribusi frekuensi kata dalam berita"
   ]
  },
  {
   "cell_type": "code",
   "execution_count": 26,
   "id": "pursuant-machine",
   "metadata": {
    "execution": {
     "iopub.execute_input": "2021-06-23T13:08:36.302673Z",
     "iopub.status.busy": "2021-06-23T13:08:36.301610Z",
     "iopub.status.idle": "2021-06-23T13:08:36.304483Z",
     "shell.execute_reply": "2021-06-23T13:08:36.303792Z",
     "shell.execute_reply.started": "2021-06-23T12:50:30.097906Z"
    },
    "id": "iojj2G7Z6yZO",
    "papermill": {
     "duration": 0.090507,
     "end_time": "2021-06-23T13:08:36.304627",
     "exception": false,
     "start_time": "2021-06-23T13:08:36.214120",
     "status": "completed"
    },
    "tags": []
   },
   "outputs": [],
   "source": [
    "fqdist = FreqDist(data)"
   ]
  },
  {
   "cell_type": "markdown",
   "id": "compressed-atlanta",
   "metadata": {
    "papermill": {
     "duration": 0.082515,
     "end_time": "2021-06-23T13:08:36.470339",
     "exception": false,
     "start_time": "2021-06-23T13:08:36.387824",
     "status": "completed"
    },
    "tags": []
   },
   "source": [
    " Mencetak 15 kata paling banyak digunakan, kata yang paling banyak muncul dari ke-3 berita yang saya ambil adalah kata vakin, uji, vaksinasi, bpom dan covid yang memang sedang marak berita yang membahas seputar uji vaksinasi untuk covid."
   ]
  },
  {
   "cell_type": "code",
   "execution_count": 27,
   "id": "played-defeat",
   "metadata": {
    "execution": {
     "iopub.execute_input": "2021-06-23T13:08:36.643492Z",
     "iopub.status.busy": "2021-06-23T13:08:36.642469Z",
     "iopub.status.idle": "2021-06-23T13:08:36.647144Z",
     "shell.execute_reply": "2021-06-23T13:08:36.646508Z",
     "shell.execute_reply.started": "2021-06-23T12:50:30.110426Z"
    },
    "id": "LSF7qati7y53",
    "outputId": "d5abbabc-7220-4c92-bcdc-796763c75765",
    "papermill": {
     "duration": 0.093671,
     "end_time": "2021-06-23T13:08:36.647285",
     "exception": false,
     "start_time": "2021-06-23T13:08:36.553614",
     "status": "completed"
    },
    "tags": []
   },
   "outputs": [
    {
     "data": {
      "text/plain": [
       "[('vaksin', 21),\n",
       " ('uji', 11),\n",
       " ('vaksinasi', 10),\n",
       " ('bpom', 9),\n",
       " ('covid', 9),\n",
       " ('nusantara', 8),\n",
       " ('dpr', 5),\n",
       " ('puasa', 5),\n",
       " ('koreksi', 4),\n",
       " ('fase', 4),\n",
       " ('corona', 4),\n",
       " ('ri', 4),\n",
       " ('dr', 4),\n",
       " ('mui', 4),\n",
       " ('ramadhan', 4)]"
      ]
     },
     "execution_count": 27,
     "metadata": {},
     "output_type": "execute_result"
    }
   ],
   "source": [
    "fqdist.most_common(15)"
   ]
  },
  {
   "cell_type": "code",
   "execution_count": 28,
   "id": "square-smoke",
   "metadata": {
    "execution": {
     "iopub.execute_input": "2021-06-23T13:08:36.819233Z",
     "iopub.status.busy": "2021-06-23T13:08:36.818485Z",
     "iopub.status.idle": "2021-06-23T13:08:37.086448Z",
     "shell.execute_reply": "2021-06-23T13:08:37.085306Z",
     "shell.execute_reply.started": "2021-06-23T12:50:30.123262Z"
    },
    "id": "lHj2w5Fa76uQ",
    "outputId": "b7f1eacd-0826-464a-eb53-26ca30898c5c",
    "papermill": {
     "duration": 0.355735,
     "end_time": "2021-06-23T13:08:37.086607",
     "exception": false,
     "start_time": "2021-06-23T13:08:36.730872",
     "status": "completed"
    },
    "tags": []
   },
   "outputs": [
    {
     "data": {
      "image/png": "[encoded data removed]",
      "text/plain": [
       "<Figure size 432x288 with 1 Axes>"
      ]
     },
     "metadata": {
      "needs_background": "light"
     },
     "output_type": "display_data"
    }
   ],
   "source": [
    "# plotting\n",
    "fqdist.plot(20,cumulative=False)\n",
    "plt.show()"
   ]
  },
  {
   "cell_type": "code",
   "execution_count": 29,
   "id": "physical-excitement",
   "metadata": {
    "execution": {
     "iopub.execute_input": "2021-06-23T13:08:37.261830Z",
     "iopub.status.busy": "2021-06-23T13:08:37.260960Z",
     "iopub.status.idle": "2021-06-23T13:08:37.264501Z",
     "shell.execute_reply": "2021-06-23T13:08:37.265089Z",
     "shell.execute_reply.started": "2021-06-23T12:50:30.370479Z"
    },
    "id": "jSu55R017k0q",
    "outputId": "f77f12a9-3dc9-41bf-a4a4-401748a6253c",
    "papermill": {
     "duration": 0.094102,
     "end_time": "2021-06-23T13:08:37.265258",
     "exception": false,
     "start_time": "2021-06-23T13:08:37.171156",
     "status": "completed"
    },
    "tags": []
   },
   "outputs": [
    {
     "data": {
      "text/plain": [
       "FreqDist({'vaksin': 21, 'uji': 11, 'vaksinasi': 10, 'bpom': 9, 'covid': 9, 'nusantara': 8, 'dpr': 5, 'puasa': 5, 'koreksi': 4, 'fase': 4, ...})"
      ]
     },
     "execution_count": 29,
     "metadata": {},
     "output_type": "execute_result"
    }
   ],
   "source": [
    "word_frequencies = FreqDist(data)\n",
    "\n",
    "word_frequencies"
   ]
  },
  {
   "cell_type": "markdown",
   "id": "national-dryer",
   "metadata": {
    "papermill": {
     "duration": 0.085645,
     "end_time": "2021-06-23T13:08:37.437369",
     "exception": false,
     "start_time": "2021-06-23T13:08:37.351724",
     "status": "completed"
    },
    "tags": []
   },
   "source": [
    "Urutan frekuensi persebaran kata dari yang paling sering muncul sampai sedikit"
   ]
  },
  {
   "cell_type": "code",
   "execution_count": 30,
   "id": "colored-corrections",
   "metadata": {
    "execution": {
     "iopub.execute_input": "2021-06-23T13:08:37.626191Z",
     "iopub.status.busy": "2021-06-23T13:08:37.625194Z",
     "iopub.status.idle": "2021-06-23T13:08:37.631978Z",
     "shell.execute_reply": "2021-06-23T13:08:37.632577Z",
     "shell.execute_reply.started": "2021-06-23T12:50:30.379435Z"
    },
    "id": "6ddO35xd8F5_",
    "outputId": "4a409851-02bf-4cd5-93f8-389e077cb948",
    "papermill": {
     "duration": 0.097525,
     "end_time": "2021-06-23T13:08:37.632758",
     "exception": false,
     "start_time": "2021-06-23T13:08:37.535233",
     "status": "completed"
    },
    "tags": []
   },
   "outputs": [
    {
     "name": "stdout",
     "output_type": "stream",
     "text": [
      "data urut : {'vaksin': 21, 'uji': 11, 'vaksinasi': 10, 'bpom': 9, 'covid': 9, 'nusantara': 8, 'dpr': 5, 'puasa': 5, 'koreksi': 4, 'fase': 4, 'corona': 4, 'ri': 4, 'dr': 4, 'mui': 4, 'ramadhan': 4, 'merah': 4, 'putih': 4, 'kepala': 3, 'i': 3, 'kementerian': 3, 'terkait': 3, 'umat': 3, 'islam': 3, 'selesai': 3, 'oktober': 3, 'eijkman': 3, 'badan': 2, 'pengawas': 2, 'obat': 2, 'makanan': 2, 'proses': 2, 'rspad': 2, 'gatot': 2, 'rabu': 2, 'k': 2, 'lukito': 2, 'pers': 2, 'pengembangan': 2, 'klinis': 2, 'peneliti': 2, 'evaluasi': 2, 'catatan': 2, 'dendritik': 2, 'mengikuti': 2, 'siti': 2, 'anggota': 2, 'fraksi': 2, 'kesehatan': 2, 'indonesia': 2, 'fatwa': 2, 'april': 2, 'berpuasa': 2, 'berdasarkan': 2, 'pemerintah': 2, 'malam': 2, 'dikembangkan': 2, 'emergency': 2, 'use': 2, 'authorization': 2, 'eua': 2, 'rapat': 2, 'komisi': 2, 'ix': 2, 'september': 2, 'produksi': 2, 'massal': 2, 'klinik': 2, 'semester': 2, 'menanggapi': 1, 'soebroto': 1, 'kegiatan': 1, 'kaitannya': 1, 'kapasitas': 1, 'konferensi': 1, 'daring': 1, 'jumat': 1, 'peran': 1, 'fokus': 1, 'pendampingan': 1, 'sesuai': 1, 'standar': 1, 'internasional': 1, 'apapun': 1, 'menurutnya': 1, 'kunjung': 1, 'diganggu': 1, 'gugat': 1, 'final': 1, 'penilaian': 1, 'menunggu': 1, 'dikomersilkan': 1, 'nama': 1, 'sembari': 1, 'menekankan': 1, 'berkomentar': 1, 'mengimbau': 1, 'pelajaran': 1, 'mengembangkan': 1, 'aturan': 1, 'kaidah': 1, 'keselamatan': 1, 'nyawa': 1, 'penerima': 1, 'tokoh': 1, 'relawan': 1, 'meliputi': 1, 'eks': 1, 'menkes': 1, 'fadhilah': 1, 'supari': 1, 'mantan': 1, 'panglima': 1, 'tni': 1, 'jenderal': 1, 'purn': 1, 'nurmantyo': 1, 'wakil': 1, 'ketua': 1, 'sufmi': 1, 'dasco': 1, 'ahmad': 1, 'pan': 1, 'saleh': 1, 'daulay': 1, 'pdip': 1, 'adian': 1, 'napitupulu': 1, 'politikus': 1, 'senior': 1, 'golkar': 1, 'aburizal': 1, 'bakrie': 1, 'besutan': 1, 'terawan': 1, 'juru': 1, 'bicara': 1, 'tarmizi': 1, 'dilanjutkan': 1, 'majelis': 1, 'ulama': 1, 'menerbitkan': 1, 'dekatnya': 1, 'jatuh': 1, 'pertengahan': 1, 'berdiskusi': 1, 'mengeluarkan': 1, 'membatalkan': 1, 'siaran': 1, 'temu': 1, 'media': 1, 'update': 1, 'penanggulangan': 1, 'minggu': 1, 'keputusan': 1, 'merekomendasikan': 1, 'mencegah': 1, 'penyebaran': 1, 'memperhatikan': 1, 'kondisi': 1, 'menjalankan': 1, 'ibadah': 1, 'menyarankan': 1, 'khawatir': 1, 'efek': 1, 'samping': 1, 'penyuntikkan': 1, 'dianjurkan': 1, 'asrorun': 1, 'niam': 1, 'sholeh': 1, 'keterangan': 1, 'resmi': 1, 'dikutip': 1, 'cnn': 1, 'persiapan': 1, 'khusus': 1, 'universitas': 1, 'airlangga': 1, 'unair': 1, 'langsung': 1, 'praklinik': 1, 'binatang': 1, 'kliniknya': 1, 'disiarkan': 1, 'youtube': 1, 'kamis': 1, 'lembaga': 1, 'klinisnya': 1, 'berjalan': 1, 'roadmap': 1, 'bio': 1, 'farma': 1, 'harapan': 1, 'proyeksinya': 1, 'timelinenya': 1, 'dilaksanakan': 1, 'pungkasnya': 1, 'kantongi': 1, 'restu': 1, 'who': 1}\n"
     ]
    }
   ],
   "source": [
    "import operator\n",
    "sorted_w = dict( sorted(word_frequencies.items(), key=operator.itemgetter(1),reverse=True))\n",
    "print(\"data urut :\",sorted_w)"
   ]
  },
  {
   "cell_type": "code",
   "execution_count": 31,
   "id": "little-sacramento",
   "metadata": {
    "execution": {
     "iopub.execute_input": "2021-06-23T13:08:37.844984Z",
     "iopub.status.busy": "2021-06-23T13:08:37.844009Z",
     "iopub.status.idle": "2021-06-23T13:08:37.851193Z",
     "shell.execute_reply": "2021-06-23T13:08:37.850195Z",
     "shell.execute_reply.started": "2021-06-23T12:50:30.390261Z"
    },
    "id": "5ILeCk0S8PAw",
    "papermill": {
     "duration": 0.118067,
     "end_time": "2021-06-23T13:08:37.851389",
     "exception": false,
     "start_time": "2021-06-23T13:08:37.733322",
     "status": "completed"
    },
    "tags": []
   },
   "outputs": [],
   "source": [
    "maximum_frequncy = max(word_frequencies.values())\n",
    "\n",
    "for word in word_frequencies.keys():\n",
    "    word_frequencies[word] = (word_frequencies[word]/maximum_frequncy)"
   ]
  },
  {
   "cell_type": "markdown",
   "id": "institutional-congo",
   "metadata": {
    "papermill": {
     "duration": 0.10568,
     "end_time": "2021-06-23T13:08:38.075735",
     "exception": false,
     "start_time": "2021-06-23T13:08:37.970055",
     "status": "completed"
    },
    "tags": []
   },
   "source": [
    "**Sentence Score**\n",
    "\n",
    "Proses untuk mengasosiasikan nilai numerik dengan kalimat berdasarkan prioritas penggunaan algoritma"
   ]
  },
  {
   "cell_type": "code",
   "execution_count": 32,
   "id": "deluxe-ribbon",
   "metadata": {
    "execution": {
     "iopub.execute_input": "2021-06-23T13:08:38.293604Z",
     "iopub.status.busy": "2021-06-23T13:08:38.292878Z",
     "iopub.status.idle": "2021-06-23T13:08:38.351562Z",
     "shell.execute_reply": "2021-06-23T13:08:38.352134Z",
     "shell.execute_reply.started": "2021-06-23T12:50:30.398987Z"
    },
    "id": "HHWGZspH8nEF",
    "papermill": {
     "duration": 0.176003,
     "end_time": "2021-06-23T13:08:38.352322",
     "exception": false,
     "start_time": "2021-06-23T13:08:38.176319",
     "status": "completed"
    },
    "tags": []
   },
   "outputs": [],
   "source": [
    "sentence_scores = {}\n",
    "for sent in data:\n",
    "    for word in nltk.word_tokenize(sent.lower()):\n",
    "        if word in word_frequencies.keys():\n",
    "            if len(sent.split(' ')) < 30:\n",
    "                if sent not in sentence_scores.keys():\n",
    "                    sentence_scores[sent] = word_frequencies[word]\n",
    "                else:\n",
    "                    sentence_scores[sent] += word_frequencies[word]"
   ]
  },
  {
   "cell_type": "code",
   "execution_count": 33,
   "id": "south-carpet",
   "metadata": {
    "execution": {
     "iopub.execute_input": "2021-06-23T13:08:38.607272Z",
     "iopub.status.busy": "2021-06-23T13:08:38.606182Z",
     "iopub.status.idle": "2021-06-23T13:08:38.610982Z",
     "shell.execute_reply": "2021-06-23T13:08:38.611564Z",
     "shell.execute_reply.started": "2021-06-23T12:50:30.444781Z"
    },
    "id": "EjypxBkH8psu",
    "outputId": "b28869cf-e393-440b-b386-c113be2721be",
    "papermill": {
     "duration": 0.132126,
     "end_time": "2021-06-23T13:08:38.611756",
     "exception": false,
     "start_time": "2021-06-23T13:08:38.479630",
     "status": "completed"
    },
    "tags": []
   },
   "outputs": [
    {
     "data": {
      "text/plain": [
       "{'kepala': 0.42857142857142855,\n",
       " 'badan': 0.19047619047619047,\n",
       " 'pengawas': 0.19047619047619047,\n",
       " 'obat': 0.19047619047619047,\n",
       " 'makanan': 0.19047619047619047,\n",
       " 'bpom': 3.8571428571428563,\n",
       " 'menanggapi': 0.047619047619047616,\n",
       " 'proses': 0.19047619047619047,\n",
       " 'uji': 5.761904761904762,\n",
       " 'vaksin': 21.0,\n",
       " 'nusantara': 3.0476190476190474,\n",
       " 'rspad': 0.19047619047619047,\n",
       " 'gatot': 0.19047619047619047,\n",
       " 'soebroto': 0.047619047619047616,\n",
       " 'rabu': 0.19047619047619047,\n",
       " 'kegiatan': 0.047619047619047616,\n",
       " 'kaitannya': 0.047619047619047616,\n",
       " 'kapasitas': 0.047619047619047616,\n",
       " 'k': 0.19047619047619047,\n",
       " 'lukito': 0.19047619047619047,\n",
       " 'konferensi': 0.047619047619047616,\n",
       " 'pers': 0.19047619047619047,\n",
       " 'daring': 0.047619047619047616,\n",
       " 'jumat': 0.047619047619047616,\n",
       " 'peran': 0.047619047619047616,\n",
       " 'pengembangan': 0.19047619047619047,\n",
       " 'covid': 3.8571428571428563,\n",
       " 'fokus': 0.047619047619047616,\n",
       " 'pendampingan': 0.047619047619047616,\n",
       " 'klinis': 0.19047619047619047,\n",
       " 'sesuai': 0.047619047619047616,\n",
       " 'standar': 0.047619047619047616,\n",
       " 'internasional': 0.047619047619047616,\n",
       " 'peneliti': 0.19047619047619047,\n",
       " 'koreksi': 0.7619047619047619,\n",
       " 'apapun': 0.047619047619047616,\n",
       " 'evaluasi': 0.19047619047619047,\n",
       " 'catatan': 0.19047619047619047,\n",
       " 'dendritik': 0.19047619047619047,\n",
       " 'fase': 0.7619047619047619,\n",
       " 'i': 0.42857142857142855,\n",
       " 'menurutnya': 0.047619047619047616,\n",
       " 'kunjung': 0.047619047619047616,\n",
       " 'corona': 0.7619047619047619,\n",
       " 'diganggu': 0.047619047619047616,\n",
       " 'gugat': 0.047619047619047616,\n",
       " 'final': 0.047619047619047616,\n",
       " 'penilaian': 0.047619047619047616,\n",
       " 'menunggu': 0.047619047619047616,\n",
       " 'dikomersilkan': 0.047619047619047616,\n",
       " 'nama': 0.047619047619047616,\n",
       " 'sembari': 0.047619047619047616,\n",
       " 'menekankan': 0.047619047619047616,\n",
       " 'berkomentar': 0.047619047619047616,\n",
       " 'mengimbau': 0.047619047619047616,\n",
       " 'pelajaran': 0.047619047619047616,\n",
       " 'mengembangkan': 0.047619047619047616,\n",
       " 'mengikuti': 0.19047619047619047,\n",
       " 'aturan': 0.047619047619047616,\n",
       " 'kaidah': 0.047619047619047616,\n",
       " 'keselamatan': 0.047619047619047616,\n",
       " 'nyawa': 0.047619047619047616,\n",
       " 'penerima': 0.047619047619047616,\n",
       " 'tokoh': 0.047619047619047616,\n",
       " 'relawan': 0.047619047619047616,\n",
       " 'meliputi': 0.047619047619047616,\n",
       " 'eks': 0.047619047619047616,\n",
       " 'menkes': 0.047619047619047616,\n",
       " 'siti': 0.19047619047619047,\n",
       " 'fadhilah': 0.047619047619047616,\n",
       " 'supari': 0.047619047619047616,\n",
       " 'mantan': 0.047619047619047616,\n",
       " 'panglima': 0.047619047619047616,\n",
       " 'tni': 0.047619047619047616,\n",
       " 'jenderal': 0.047619047619047616,\n",
       " 'purn': 0.047619047619047616,\n",
       " 'nurmantyo': 0.047619047619047616,\n",
       " 'wakil': 0.047619047619047616,\n",
       " 'ketua': 0.047619047619047616,\n",
       " 'dpr': 1.1904761904761905,\n",
       " 'sufmi': 0.047619047619047616,\n",
       " 'dasco': 0.047619047619047616,\n",
       " 'ahmad': 0.047619047619047616,\n",
       " 'anggota': 0.19047619047619047,\n",
       " 'fraksi': 0.19047619047619047,\n",
       " 'pan': 0.047619047619047616,\n",
       " 'saleh': 0.047619047619047616,\n",
       " 'daulay': 0.047619047619047616,\n",
       " 'ri': 0.7619047619047619,\n",
       " 'pdip': 0.047619047619047616,\n",
       " 'adian': 0.047619047619047616,\n",
       " 'napitupulu': 0.047619047619047616,\n",
       " 'politikus': 0.047619047619047616,\n",
       " 'senior': 0.047619047619047616,\n",
       " 'golkar': 0.047619047619047616,\n",
       " 'aburizal': 0.047619047619047616,\n",
       " 'bakrie': 0.047619047619047616,\n",
       " 'besutan': 0.047619047619047616,\n",
       " 'dr': 0.7619047619047619,\n",
       " 'terawan': 0.047619047619047616,\n",
       " 'juru': 0.047619047619047616,\n",
       " 'bicara': 0.047619047619047616,\n",
       " 'vaksinasi': 4.761904761904762,\n",
       " 'kementerian': 0.42857142857142855,\n",
       " 'kesehatan': 0.19047619047619047,\n",
       " 'tarmizi': 0.047619047619047616,\n",
       " 'terkait': 0.42857142857142855,\n",
       " 'puasa': 1.1904761904761905,\n",
       " 'dilanjutkan': 0.047619047619047616,\n",
       " 'majelis': 0.047619047619047616,\n",
       " 'ulama': 0.047619047619047616,\n",
       " 'indonesia': 0.19047619047619047,\n",
       " 'mui': 0.7619047619047619,\n",
       " 'menerbitkan': 0.047619047619047616,\n",
       " 'fatwa': 0.19047619047619047,\n",
       " 'dekatnya': 0.047619047619047616,\n",
       " 'ramadhan': 0.7619047619047619,\n",
       " 'jatuh': 0.047619047619047616,\n",
       " 'pertengahan': 0.047619047619047616,\n",
       " 'april': 0.19047619047619047,\n",
       " 'berdiskusi': 0.047619047619047616,\n",
       " 'mengeluarkan': 0.047619047619047616,\n",
       " 'membatalkan': 0.047619047619047616,\n",
       " 'umat': 0.42857142857142855,\n",
       " 'islam': 0.42857142857142855,\n",
       " 'berpuasa': 0.19047619047619047,\n",
       " 'siaran': 0.047619047619047616,\n",
       " 'temu': 0.047619047619047616,\n",
       " 'media': 0.047619047619047616,\n",
       " 'update': 0.047619047619047616,\n",
       " 'penanggulangan': 0.047619047619047616,\n",
       " 'minggu': 0.047619047619047616,\n",
       " 'berdasarkan': 0.19047619047619047,\n",
       " 'keputusan': 0.047619047619047616,\n",
       " 'merekomendasikan': 0.047619047619047616,\n",
       " 'pemerintah': 0.19047619047619047,\n",
       " 'mencegah': 0.047619047619047616,\n",
       " 'penyebaran': 0.047619047619047616,\n",
       " 'memperhatikan': 0.047619047619047616,\n",
       " 'kondisi': 0.047619047619047616,\n",
       " 'menjalankan': 0.047619047619047616,\n",
       " 'ibadah': 0.047619047619047616,\n",
       " 'menyarankan': 0.047619047619047616,\n",
       " 'khawatir': 0.047619047619047616,\n",
       " 'efek': 0.047619047619047616,\n",
       " 'samping': 0.047619047619047616,\n",
       " 'penyuntikkan': 0.047619047619047616,\n",
       " 'dianjurkan': 0.047619047619047616,\n",
       " 'malam': 0.19047619047619047,\n",
       " 'asrorun': 0.047619047619047616,\n",
       " 'niam': 0.047619047619047616,\n",
       " 'sholeh': 0.047619047619047616,\n",
       " 'keterangan': 0.047619047619047616,\n",
       " 'resmi': 0.047619047619047616,\n",
       " 'dikutip': 0.047619047619047616,\n",
       " 'cnn': 0.047619047619047616,\n",
       " 'persiapan': 0.047619047619047616,\n",
       " 'khusus': 0.047619047619047616,\n",
       " 'merah': 0.7619047619047619,\n",
       " 'putih': 0.7619047619047619,\n",
       " 'dikembangkan': 0.19047619047619047,\n",
       " 'universitas': 0.047619047619047616,\n",
       " 'airlangga': 0.047619047619047616,\n",
       " 'unair': 0.047619047619047616,\n",
       " 'emergency': 0.19047619047619047,\n",
       " 'use': 0.19047619047619047,\n",
       " 'authorization': 0.19047619047619047,\n",
       " 'eua': 0.19047619047619047,\n",
       " 'langsung': 0.047619047619047616,\n",
       " 'rapat': 0.19047619047619047,\n",
       " 'komisi': 0.19047619047619047,\n",
       " 'ix': 0.19047619047619047,\n",
       " 'praklinik': 0.047619047619047616,\n",
       " 'binatang': 0.047619047619047616,\n",
       " 'kliniknya': 0.047619047619047616,\n",
       " 'selesai': 0.42857142857142855,\n",
       " 'september': 0.19047619047619047,\n",
       " 'oktober': 0.42857142857142855,\n",
       " 'produksi': 0.19047619047619047,\n",
       " 'massal': 0.19047619047619047,\n",
       " 'disiarkan': 0.047619047619047616,\n",
       " 'youtube': 0.047619047619047616,\n",
       " 'kamis': 0.047619047619047616,\n",
       " 'lembaga': 0.047619047619047616,\n",
       " 'eijkman': 0.42857142857142855,\n",
       " 'klinisnya': 0.047619047619047616,\n",
       " 'berjalan': 0.047619047619047616,\n",
       " 'roadmap': 0.047619047619047616,\n",
       " 'klinik': 0.19047619047619047,\n",
       " 'semester': 0.19047619047619047,\n",
       " 'bio': 0.047619047619047616,\n",
       " 'farma': 0.047619047619047616,\n",
       " 'harapan': 0.047619047619047616,\n",
       " 'proyeksinya': 0.047619047619047616,\n",
       " 'timelinenya': 0.047619047619047616,\n",
       " 'dilaksanakan': 0.047619047619047616,\n",
       " 'pungkasnya': 0.047619047619047616,\n",
       " 'kantongi': 0.047619047619047616,\n",
       " 'restu': 0.047619047619047616,\n",
       " 'who': 0.047619047619047616}"
      ]
     },
     "execution_count": 33,
     "metadata": {},
     "output_type": "execute_result"
    }
   ],
   "source": [
    "sentence_scores"
   ]
  },
  {
   "cell_type": "code",
   "execution_count": 34,
   "id": "brief-regression",
   "metadata": {
    "execution": {
     "iopub.execute_input": "2021-06-23T13:08:38.821313Z",
     "iopub.status.busy": "2021-06-23T13:08:38.820614Z",
     "iopub.status.idle": "2021-06-23T13:08:38.824714Z",
     "shell.execute_reply": "2021-06-23T13:08:38.825362Z",
     "shell.execute_reply.started": "2021-06-23T12:50:30.457867Z"
    },
    "id": "_jpZBVBu8teJ",
    "outputId": "d2ad813f-ea58-4328-f3e2-536f7f44605c",
    "papermill": {
     "duration": 0.111761,
     "end_time": "2021-06-23T13:08:38.825539",
     "exception": false,
     "start_time": "2021-06-23T13:08:38.713778",
     "status": "completed"
    },
    "tags": []
   },
   "outputs": [
    {
     "name": "stdout",
     "output_type": "stream",
     "text": [
      "data urut : {'vaksin': 21.0, 'uji': 5.761904761904762, 'vaksinasi': 4.761904761904762, 'bpom': 3.8571428571428563, 'covid': 3.8571428571428563, 'nusantara': 3.0476190476190474, 'dpr': 1.1904761904761905, 'puasa': 1.1904761904761905, 'koreksi': 0.7619047619047619, 'fase': 0.7619047619047619, 'corona': 0.7619047619047619, 'ri': 0.7619047619047619, 'dr': 0.7619047619047619, 'mui': 0.7619047619047619, 'ramadhan': 0.7619047619047619, 'merah': 0.7619047619047619, 'putih': 0.7619047619047619, 'kepala': 0.42857142857142855, 'i': 0.42857142857142855, 'kementerian': 0.42857142857142855, 'terkait': 0.42857142857142855, 'umat': 0.42857142857142855, 'islam': 0.42857142857142855, 'selesai': 0.42857142857142855, 'oktober': 0.42857142857142855, 'eijkman': 0.42857142857142855, 'badan': 0.19047619047619047, 'pengawas': 0.19047619047619047, 'obat': 0.19047619047619047, 'makanan': 0.19047619047619047, 'proses': 0.19047619047619047, 'rspad': 0.19047619047619047, 'gatot': 0.19047619047619047, 'rabu': 0.19047619047619047, 'k': 0.19047619047619047, 'lukito': 0.19047619047619047, 'pers': 0.19047619047619047, 'pengembangan': 0.19047619047619047, 'klinis': 0.19047619047619047, 'peneliti': 0.19047619047619047, 'evaluasi': 0.19047619047619047, 'catatan': 0.19047619047619047, 'dendritik': 0.19047619047619047, 'mengikuti': 0.19047619047619047, 'siti': 0.19047619047619047, 'anggota': 0.19047619047619047, 'fraksi': 0.19047619047619047, 'kesehatan': 0.19047619047619047, 'indonesia': 0.19047619047619047, 'fatwa': 0.19047619047619047, 'april': 0.19047619047619047, 'berpuasa': 0.19047619047619047, 'berdasarkan': 0.19047619047619047, 'pemerintah': 0.19047619047619047, 'malam': 0.19047619047619047, 'dikembangkan': 0.19047619047619047, 'emergency': 0.19047619047619047, 'use': 0.19047619047619047, 'authorization': 0.19047619047619047, 'eua': 0.19047619047619047, 'rapat': 0.19047619047619047, 'komisi': 0.19047619047619047, 'ix': 0.19047619047619047, 'september': 0.19047619047619047, 'produksi': 0.19047619047619047, 'massal': 0.19047619047619047, 'klinik': 0.19047619047619047, 'semester': 0.19047619047619047, 'menanggapi': 0.047619047619047616, 'soebroto': 0.047619047619047616, 'kegiatan': 0.047619047619047616, 'kaitannya': 0.047619047619047616, 'kapasitas': 0.047619047619047616, 'konferensi': 0.047619047619047616, 'daring': 0.047619047619047616, 'jumat': 0.047619047619047616, 'peran': 0.047619047619047616, 'fokus': 0.047619047619047616, 'pendampingan': 0.047619047619047616, 'sesuai': 0.047619047619047616, 'standar': 0.047619047619047616, 'internasional': 0.047619047619047616, 'apapun': 0.047619047619047616, 'menurutnya': 0.047619047619047616, 'kunjung': 0.047619047619047616, 'diganggu': 0.047619047619047616, 'gugat': 0.047619047619047616, 'final': 0.047619047619047616, 'penilaian': 0.047619047619047616, 'menunggu': 0.047619047619047616, 'dikomersilkan': 0.047619047619047616, 'nama': 0.047619047619047616, 'sembari': 0.047619047619047616, 'menekankan': 0.047619047619047616, 'berkomentar': 0.047619047619047616, 'mengimbau': 0.047619047619047616, 'pelajaran': 0.047619047619047616, 'mengembangkan': 0.047619047619047616, 'aturan': 0.047619047619047616, 'kaidah': 0.047619047619047616, 'keselamatan': 0.047619047619047616, 'nyawa': 0.047619047619047616, 'penerima': 0.047619047619047616, 'tokoh': 0.047619047619047616, 'relawan': 0.047619047619047616, 'meliputi': 0.047619047619047616, 'eks': 0.047619047619047616, 'menkes': 0.047619047619047616, 'fadhilah': 0.047619047619047616, 'supari': 0.047619047619047616, 'mantan': 0.047619047619047616, 'panglima': 0.047619047619047616, 'tni': 0.047619047619047616, 'jenderal': 0.047619047619047616, 'purn': 0.047619047619047616, 'nurmantyo': 0.047619047619047616, 'wakil': 0.047619047619047616, 'ketua': 0.047619047619047616, 'sufmi': 0.047619047619047616, 'dasco': 0.047619047619047616, 'ahmad': 0.047619047619047616, 'pan': 0.047619047619047616, 'saleh': 0.047619047619047616, 'daulay': 0.047619047619047616, 'pdip': 0.047619047619047616, 'adian': 0.047619047619047616, 'napitupulu': 0.047619047619047616, 'politikus': 0.047619047619047616, 'senior': 0.047619047619047616, 'golkar': 0.047619047619047616, 'aburizal': 0.047619047619047616, 'bakrie': 0.047619047619047616, 'besutan': 0.047619047619047616, 'terawan': 0.047619047619047616, 'juru': 0.047619047619047616, 'bicara': 0.047619047619047616, 'tarmizi': 0.047619047619047616, 'dilanjutkan': 0.047619047619047616, 'majelis': 0.047619047619047616, 'ulama': 0.047619047619047616, 'menerbitkan': 0.047619047619047616, 'dekatnya': 0.047619047619047616, 'jatuh': 0.047619047619047616, 'pertengahan': 0.047619047619047616, 'berdiskusi': 0.047619047619047616, 'mengeluarkan': 0.047619047619047616, 'membatalkan': 0.047619047619047616, 'siaran': 0.047619047619047616, 'temu': 0.047619047619047616, 'media': 0.047619047619047616, 'update': 0.047619047619047616, 'penanggulangan': 0.047619047619047616, 'minggu': 0.047619047619047616, 'keputusan': 0.047619047619047616, 'merekomendasikan': 0.047619047619047616, 'mencegah': 0.047619047619047616, 'penyebaran': 0.047619047619047616, 'memperhatikan': 0.047619047619047616, 'kondisi': 0.047619047619047616, 'menjalankan': 0.047619047619047616, 'ibadah': 0.047619047619047616, 'menyarankan': 0.047619047619047616, 'khawatir': 0.047619047619047616, 'efek': 0.047619047619047616, 'samping': 0.047619047619047616, 'penyuntikkan': 0.047619047619047616, 'dianjurkan': 0.047619047619047616, 'asrorun': 0.047619047619047616, 'niam': 0.047619047619047616, 'sholeh': 0.047619047619047616, 'keterangan': 0.047619047619047616, 'resmi': 0.047619047619047616, 'dikutip': 0.047619047619047616, 'cnn': 0.047619047619047616, 'persiapan': 0.047619047619047616, 'khusus': 0.047619047619047616, 'universitas': 0.047619047619047616, 'airlangga': 0.047619047619047616, 'unair': 0.047619047619047616, 'langsung': 0.047619047619047616, 'praklinik': 0.047619047619047616, 'binatang': 0.047619047619047616, 'kliniknya': 0.047619047619047616, 'disiarkan': 0.047619047619047616, 'youtube': 0.047619047619047616, 'kamis': 0.047619047619047616, 'lembaga': 0.047619047619047616, 'klinisnya': 0.047619047619047616, 'berjalan': 0.047619047619047616, 'roadmap': 0.047619047619047616, 'bio': 0.047619047619047616, 'farma': 0.047619047619047616, 'harapan': 0.047619047619047616, 'proyeksinya': 0.047619047619047616, 'timelinenya': 0.047619047619047616, 'dilaksanakan': 0.047619047619047616, 'pungkasnya': 0.047619047619047616, 'kantongi': 0.047619047619047616, 'restu': 0.047619047619047616, 'who': 0.047619047619047616}\n"
     ]
    }
   ],
   "source": [
    "import operator\n",
    "sorted_d = dict( sorted(sentence_scores.items(), key=operator.itemgetter(1),reverse=True))\n",
    "print(\"data urut :\",sorted_d)"
   ]
  },
  {
   "cell_type": "markdown",
   "id": "naughty-worcester",
   "metadata": {
    "papermill": {
     "duration": 0.099098,
     "end_time": "2021-06-23T13:08:39.027160",
     "exception": false,
     "start_time": "2021-06-23T13:08:38.928062",
     "status": "completed"
    },
    "tags": []
   },
   "source": [
    "# WordCloud\n",
    "\n",
    "Proses ini menampilkan visualisasi persebaran kata menggunakan WordCloud"
   ]
  },
  {
   "cell_type": "code",
   "execution_count": 35,
   "id": "flexible-setting",
   "metadata": {
    "execution": {
     "iopub.execute_input": "2021-06-23T13:08:39.207605Z",
     "iopub.status.busy": "2021-06-23T13:08:39.206890Z",
     "iopub.status.idle": "2021-06-23T13:08:39.209606Z",
     "shell.execute_reply": "2021-06-23T13:08:39.210116Z",
     "shell.execute_reply.started": "2021-06-23T12:50:30.467729Z"
    },
    "id": "JeKug9pU87bQ",
    "papermill": {
     "duration": 0.095891,
     "end_time": "2021-06-23T13:08:39.210306",
     "exception": false,
     "start_time": "2021-06-23T13:08:39.114415",
     "status": "completed"
    },
    "tags": []
   },
   "outputs": [],
   "source": [
    "from wordcloud import WordCloud\n",
    "import matplotlib.pyplot as plt"
   ]
  },
  {
   "cell_type": "code",
   "execution_count": 36,
   "id": "simplified-atlas",
   "metadata": {
    "execution": {
     "iopub.execute_input": "2021-06-23T13:08:39.391987Z",
     "iopub.status.busy": "2021-06-23T13:08:39.391285Z",
     "iopub.status.idle": "2021-06-23T13:08:39.396546Z",
     "shell.execute_reply": "2021-06-23T13:08:39.397169Z",
     "shell.execute_reply.started": "2021-06-23T12:50:30.582959Z"
    },
    "id": "LeTt9nnj92t9",
    "outputId": "f1fc4160-2c21-41c0-d3b5-fa7d42770770",
    "papermill": {
     "duration": 0.09908,
     "end_time": "2021-06-23T13:08:39.397341",
     "exception": false,
     "start_time": "2021-06-23T13:08:39.298261",
     "status": "completed"
    },
    "tags": []
   },
   "outputs": [
    {
     "data": {
      "text/plain": [
       "'kepala badan pengawas obat makanan bpom menanggapi proses uji vaksin nusantara rspad gatot soebroto rabu kegiatan kaitannya bpom bpom kapasitas bpom kepala bpom k lukito konferensi pers daring jumat peran bpom proses pengembangan vaksin covid fokus pendampingan uji klinis sesuai standar internasional peneliti vaksin nusantara koreksi apapun evaluasi catatan uji vaksin dendritik fase i menurutnya kunjung koreksi peneliti uji vaksin nusantara fase pengembangan vaksin corona catatan evaluasi bpom uji vaksin fase i nusantara diganggu gugat final penilaian menunggu koreksi vaksin dendritik dikomersilkan nama vaksin nusantara koreksi fase i sembari menekankan berkomentar vaksin nusantara mengimbau pelajaran mengembangkan vaksin covid mengikuti aturan kaidah klinis keselamatan nyawa penerima vaksin corona tokoh mengikuti uji relawan vaksin nusantara rspad meliputi eks menkes siti fadhilah supari mantan panglima tni jenderal purn gatot nurmantyo wakil ketua dpr sufmi dasco ahmad anggota dpr fraksi pan saleh daulay anggota dpr ri fraksi pdip adian napitupulu politikus senior golkar aburizal bakrie vaksin nusantara besutan dr terawan juru bicara vaksinasi covid kementerian kesehatan ri dr siti tarmizi terkait vaksinasi puasa vaksinasi dilanjutkan majelis ulama indonesia mui menerbitkan fatwa vaksinasi puasa terkait dekatnya ramadhan jatuh pertengahan april kementerian kesehatan kementerian terkait berdiskusi mui mengeluarkan fatwa vaksinasi covid membatalkan puasa umat islam berpuasa dr siaran pers temu media update penanggulangan covid minggu dr berdasarkan keputusan mui merekomendasikan pemerintah vaksinasi ramadhan mencegah penyebaran covid vaksinasi ramadhan memperhatikan kondisi umat islam menjalankan ibadah puasa mui menyarankan khawatir efek samping vaksinasi puasa penyuntikkan vaksin covid dianjurkan malam pemerintah vaksinasi covid malam ramadhan umat islam asrorun niam sholeh keterangan resmi dikutip cnn indonesia rabu vaksinasi covid berpuasa persiapan khusus badan pengawas obat makanan bpom vaksin merah putih dikembangkan universitas airlangga unair emergency use authorization eua langsung kepala bpom k lukito rapat komisi ix dpr ri vaksin uji praklinik binatang april uji kliniknya selesai september oktober emergency use authorization oktober produksi massal rapat disiarkan youtube komisi ix dpr ri kamis vaksin corona merah putih dikembangkan lembaga eijkman uji klinisnya berjalan berdasarkan roadmap uji klinik vaksin merah putih eijkman selesai semester vaksin merah putih eijkman bio farma harapan proyeksinya timelinenya uji klinik selesai semester eua september produksi massal dilaksanakan oktober pungkasnya vaksin corona kantongi restu who'"
      ]
     },
     "execution_count": 36,
     "metadata": {},
     "output_type": "execute_result"
    }
   ],
   "source": [
    "data_1 = ' '.join(data)\n",
    "data_1"
   ]
  },
  {
   "cell_type": "code",
   "execution_count": 37,
   "id": "vulnerable-traffic",
   "metadata": {
    "execution": {
     "iopub.execute_input": "2021-06-23T13:08:39.575342Z",
     "iopub.status.busy": "2021-06-23T13:08:39.574602Z",
     "iopub.status.idle": "2021-06-23T13:08:42.917864Z",
     "shell.execute_reply": "2021-06-23T13:08:42.918507Z",
     "shell.execute_reply.started": "2021-06-23T12:50:34.980784Z"
    },
    "id": "qB3VcaoI9_Mk",
    "outputId": "1853a6af-43fa-4326-a6ea-6aeec1b59022",
    "papermill": {
     "duration": 3.434821,
     "end_time": "2021-06-23T13:08:42.918705",
     "exception": false,
     "start_time": "2021-06-23T13:08:39.483884",
     "status": "completed"
    },
    "tags": []
   },
   "outputs": [
    {
     "data": {
      "image/png": "[encoded data removed]",
      "text/plain": [
       "<Figure size 864x720 with 1 Axes>"
      ]
     },
     "metadata": {
      "needs_background": "light"
     },
     "output_type": "display_data"
    }
   ],
   "source": [
    "wordcloud = WordCloud(width=1600, height=800, max_font_size=200).generate(data_1)\n",
    "plt.figure(figsize=(12,10))\n",
    "plt.imshow(wordcloud, interpolation='bilinear')\n",
    "plt.axis(\"off\")\n",
    "plt.show()"
   ]
  },
  {
   "cell_type": "markdown",
   "id": "expensive-conversion",
   "metadata": {
    "papermill": {
     "duration": 0.097296,
     "end_time": "2021-06-23T13:08:43.138983",
     "exception": false,
     "start_time": "2021-06-23T13:08:43.041687",
     "status": "completed"
    },
    "tags": []
   },
   "source": [
    "> Didapatkan dari visualisasi diatas semakin besar kata berarti semakin sering mucul kata tersebut dalam teks berita, yaitu ada vaksin, vaksinasi, uji, koerksi, corona, puasa,  ramadahan dan seterusnya."
   ]
  }
 ],
 "metadata": {
  "kernelspec": {
   "display_name": "Python 3",
   "language": "python",
   "name": "python3"
  },
  "language_info": {
   "codemirror_mode": {
    "name": "ipython",
    "version": 3
   },
   "file_extension": ".py",
   "mimetype": "text/x-python",
   "name": "python",
   "nbconvert_exporter": "python",
   "pygments_lexer": "ipython3",
   "version": "3.7.9"
  },
  "papermill": {
   "default_parameters": {},
   "duration": 105.828614,
   "end_time": "2021-06-23T13:08:44.148791",
   "environment_variables": {},
   "exception": null,
   "input_path": "__notebook__.ipynb",
   "output_path": "__notebook__.ipynb",
   "parameters": {},
   "start_time": "2021-06-23T13:06:58.320177",
   "version": "2.3.2"
  }
 },
 "nbformat": 4,
 "nbformat_minor": 5
}
